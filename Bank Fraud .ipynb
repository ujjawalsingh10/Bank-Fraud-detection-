{
  "nbformat": 4,
  "nbformat_minor": 0,
  "metadata": {
    "colab": {
      "provenance": [],
      "authorship_tag": "ABX9TyP7Ll0onq3qeG/3eeE1MRTD",
      "include_colab_link": true
    },
    "kernelspec": {
      "name": "python3",
      "display_name": "Python 3"
    },
    "language_info": {
      "name": "python"
    },
    "widgets": {
      "application/vnd.jupyter.widget-state+json": {
        "b2745764356b4251ba5d5888d631689b": {
          "model_module": "@jupyter-widgets/controls",
          "model_name": "HBoxModel",
          "model_module_version": "1.5.0",
          "state": {
            "_dom_classes": [],
            "_model_module": "@jupyter-widgets/controls",
            "_model_module_version": "1.5.0",
            "_model_name": "HBoxModel",
            "_view_count": null,
            "_view_module": "@jupyter-widgets/controls",
            "_view_module_version": "1.5.0",
            "_view_name": "HBoxView",
            "box_style": "",
            "children": [
              "IPY_MODEL_05cc381ac110435a8b99d79e41e036d0",
              "IPY_MODEL_089b2093f16843a5a8b132940316fee8",
              "IPY_MODEL_a8ace4e92e444586a483fa58b1cfc3be"
            ],
            "layout": "IPY_MODEL_d381554caff74e03ae3f31d4cdc5856e"
          }
        },
        "05cc381ac110435a8b99d79e41e036d0": {
          "model_module": "@jupyter-widgets/controls",
          "model_name": "HTMLModel",
          "model_module_version": "1.5.0",
          "state": {
            "_dom_classes": [],
            "_model_module": "@jupyter-widgets/controls",
            "_model_module_version": "1.5.0",
            "_model_name": "HTMLModel",
            "_view_count": null,
            "_view_module": "@jupyter-widgets/controls",
            "_view_module_version": "1.5.0",
            "_view_name": "HTMLView",
            "description": "",
            "description_tooltip": null,
            "layout": "IPY_MODEL_15992978f82b4a74a963ba253e2f37a1",
            "placeholder": "​",
            "style": "IPY_MODEL_a1a9b54e992a44d3af6d0482f05aedc9",
            "value": "100%"
          }
        },
        "089b2093f16843a5a8b132940316fee8": {
          "model_module": "@jupyter-widgets/controls",
          "model_name": "FloatProgressModel",
          "model_module_version": "1.5.0",
          "state": {
            "_dom_classes": [],
            "_model_module": "@jupyter-widgets/controls",
            "_model_module_version": "1.5.0",
            "_model_name": "FloatProgressModel",
            "_view_count": null,
            "_view_module": "@jupyter-widgets/controls",
            "_view_module_version": "1.5.0",
            "_view_name": "ProgressView",
            "bar_style": "success",
            "description": "",
            "description_tooltip": null,
            "layout": "IPY_MODEL_29b4aeac35b24838990a507cd939df23",
            "max": 100,
            "min": 0,
            "orientation": "horizontal",
            "style": "IPY_MODEL_2b4e0841944d465bb90f10fc4b4614e2",
            "value": 100
          }
        },
        "a8ace4e92e444586a483fa58b1cfc3be": {
          "model_module": "@jupyter-widgets/controls",
          "model_name": "HTMLModel",
          "model_module_version": "1.5.0",
          "state": {
            "_dom_classes": [],
            "_model_module": "@jupyter-widgets/controls",
            "_model_module_version": "1.5.0",
            "_model_name": "HTMLModel",
            "_view_count": null,
            "_view_module": "@jupyter-widgets/controls",
            "_view_module_version": "1.5.0",
            "_view_name": "HTMLView",
            "description": "",
            "description_tooltip": null,
            "layout": "IPY_MODEL_47ffb5390eb7473e935dfdae9e88699e",
            "placeholder": "​",
            "style": "IPY_MODEL_2a780c5ff5f94bdf96dd422110980e9e",
            "value": " 100/100 [03:01&lt;00:00,  1.80s/it]"
          }
        },
        "d381554caff74e03ae3f31d4cdc5856e": {
          "model_module": "@jupyter-widgets/base",
          "model_name": "LayoutModel",
          "model_module_version": "1.2.0",
          "state": {
            "_model_module": "@jupyter-widgets/base",
            "_model_module_version": "1.2.0",
            "_model_name": "LayoutModel",
            "_view_count": null,
            "_view_module": "@jupyter-widgets/base",
            "_view_module_version": "1.2.0",
            "_view_name": "LayoutView",
            "align_content": null,
            "align_items": null,
            "align_self": null,
            "border": null,
            "bottom": null,
            "display": null,
            "flex": null,
            "flex_flow": null,
            "grid_area": null,
            "grid_auto_columns": null,
            "grid_auto_flow": null,
            "grid_auto_rows": null,
            "grid_column": null,
            "grid_gap": null,
            "grid_row": null,
            "grid_template_areas": null,
            "grid_template_columns": null,
            "grid_template_rows": null,
            "height": null,
            "justify_content": null,
            "justify_items": null,
            "left": null,
            "margin": null,
            "max_height": null,
            "max_width": null,
            "min_height": null,
            "min_width": null,
            "object_fit": null,
            "object_position": null,
            "order": null,
            "overflow": null,
            "overflow_x": null,
            "overflow_y": null,
            "padding": null,
            "right": null,
            "top": null,
            "visibility": null,
            "width": null
          }
        },
        "15992978f82b4a74a963ba253e2f37a1": {
          "model_module": "@jupyter-widgets/base",
          "model_name": "LayoutModel",
          "model_module_version": "1.2.0",
          "state": {
            "_model_module": "@jupyter-widgets/base",
            "_model_module_version": "1.2.0",
            "_model_name": "LayoutModel",
            "_view_count": null,
            "_view_module": "@jupyter-widgets/base",
            "_view_module_version": "1.2.0",
            "_view_name": "LayoutView",
            "align_content": null,
            "align_items": null,
            "align_self": null,
            "border": null,
            "bottom": null,
            "display": null,
            "flex": null,
            "flex_flow": null,
            "grid_area": null,
            "grid_auto_columns": null,
            "grid_auto_flow": null,
            "grid_auto_rows": null,
            "grid_column": null,
            "grid_gap": null,
            "grid_row": null,
            "grid_template_areas": null,
            "grid_template_columns": null,
            "grid_template_rows": null,
            "height": null,
            "justify_content": null,
            "justify_items": null,
            "left": null,
            "margin": null,
            "max_height": null,
            "max_width": null,
            "min_height": null,
            "min_width": null,
            "object_fit": null,
            "object_position": null,
            "order": null,
            "overflow": null,
            "overflow_x": null,
            "overflow_y": null,
            "padding": null,
            "right": null,
            "top": null,
            "visibility": null,
            "width": null
          }
        },
        "a1a9b54e992a44d3af6d0482f05aedc9": {
          "model_module": "@jupyter-widgets/controls",
          "model_name": "DescriptionStyleModel",
          "model_module_version": "1.5.0",
          "state": {
            "_model_module": "@jupyter-widgets/controls",
            "_model_module_version": "1.5.0",
            "_model_name": "DescriptionStyleModel",
            "_view_count": null,
            "_view_module": "@jupyter-widgets/base",
            "_view_module_version": "1.2.0",
            "_view_name": "StyleView",
            "description_width": ""
          }
        },
        "29b4aeac35b24838990a507cd939df23": {
          "model_module": "@jupyter-widgets/base",
          "model_name": "LayoutModel",
          "model_module_version": "1.2.0",
          "state": {
            "_model_module": "@jupyter-widgets/base",
            "_model_module_version": "1.2.0",
            "_model_name": "LayoutModel",
            "_view_count": null,
            "_view_module": "@jupyter-widgets/base",
            "_view_module_version": "1.2.0",
            "_view_name": "LayoutView",
            "align_content": null,
            "align_items": null,
            "align_self": null,
            "border": null,
            "bottom": null,
            "display": null,
            "flex": null,
            "flex_flow": null,
            "grid_area": null,
            "grid_auto_columns": null,
            "grid_auto_flow": null,
            "grid_auto_rows": null,
            "grid_column": null,
            "grid_gap": null,
            "grid_row": null,
            "grid_template_areas": null,
            "grid_template_columns": null,
            "grid_template_rows": null,
            "height": null,
            "justify_content": null,
            "justify_items": null,
            "left": null,
            "margin": null,
            "max_height": null,
            "max_width": null,
            "min_height": null,
            "min_width": null,
            "object_fit": null,
            "object_position": null,
            "order": null,
            "overflow": null,
            "overflow_x": null,
            "overflow_y": null,
            "padding": null,
            "right": null,
            "top": null,
            "visibility": null,
            "width": null
          }
        },
        "2b4e0841944d465bb90f10fc4b4614e2": {
          "model_module": "@jupyter-widgets/controls",
          "model_name": "ProgressStyleModel",
          "model_module_version": "1.5.0",
          "state": {
            "_model_module": "@jupyter-widgets/controls",
            "_model_module_version": "1.5.0",
            "_model_name": "ProgressStyleModel",
            "_view_count": null,
            "_view_module": "@jupyter-widgets/base",
            "_view_module_version": "1.2.0",
            "_view_name": "StyleView",
            "bar_color": null,
            "description_width": ""
          }
        },
        "47ffb5390eb7473e935dfdae9e88699e": {
          "model_module": "@jupyter-widgets/base",
          "model_name": "LayoutModel",
          "model_module_version": "1.2.0",
          "state": {
            "_model_module": "@jupyter-widgets/base",
            "_model_module_version": "1.2.0",
            "_model_name": "LayoutModel",
            "_view_count": null,
            "_view_module": "@jupyter-widgets/base",
            "_view_module_version": "1.2.0",
            "_view_name": "LayoutView",
            "align_content": null,
            "align_items": null,
            "align_self": null,
            "border": null,
            "bottom": null,
            "display": null,
            "flex": null,
            "flex_flow": null,
            "grid_area": null,
            "grid_auto_columns": null,
            "grid_auto_flow": null,
            "grid_auto_rows": null,
            "grid_column": null,
            "grid_gap": null,
            "grid_row": null,
            "grid_template_areas": null,
            "grid_template_columns": null,
            "grid_template_rows": null,
            "height": null,
            "justify_content": null,
            "justify_items": null,
            "left": null,
            "margin": null,
            "max_height": null,
            "max_width": null,
            "min_height": null,
            "min_width": null,
            "object_fit": null,
            "object_position": null,
            "order": null,
            "overflow": null,
            "overflow_x": null,
            "overflow_y": null,
            "padding": null,
            "right": null,
            "top": null,
            "visibility": null,
            "width": null
          }
        },
        "2a780c5ff5f94bdf96dd422110980e9e": {
          "model_module": "@jupyter-widgets/controls",
          "model_name": "DescriptionStyleModel",
          "model_module_version": "1.5.0",
          "state": {
            "_model_module": "@jupyter-widgets/controls",
            "_model_module_version": "1.5.0",
            "_model_name": "DescriptionStyleModel",
            "_view_count": null,
            "_view_module": "@jupyter-widgets/base",
            "_view_module_version": "1.2.0",
            "_view_name": "StyleView",
            "description_width": ""
          }
        }
      }
    }
  },
  "cells": [
    {
      "cell_type": "markdown",
      "metadata": {
        "id": "view-in-github",
        "colab_type": "text"
      },
      "source": [
        "<a href=\"https://colab.research.google.com/github/ujjawalsingh10/Bank-Fraud-detection-/blob/main/Bank%20Fraud%20.ipynb\" target=\"_parent\"><img src=\"https://colab.research.google.com/assets/colab-badge.svg\" alt=\"Open In Colab\"/></a>"
      ]
    },
    {
      "cell_type": "code",
      "source": [
        "import pandas as pd\n",
        "from google.colab import drive\n",
        "drive.mount('/content/drive')"
      ],
      "metadata": {
        "colab": {
          "base_uri": "https://localhost:8080/"
        },
        "id": "1Yzwp1NvCD1_",
        "outputId": "40938270-eac4-483e-8932-6eae40b6ba5f"
      },
      "execution_count": 126,
      "outputs": [
        {
          "output_type": "stream",
          "name": "stdout",
          "text": [
            "Drive already mounted at /content/drive; to attempt to forcibly remount, call drive.mount(\"/content/drive\", force_remount=True).\n"
          ]
        }
      ]
    },
    {
      "cell_type": "code",
      "source": [
        "path = \"/content/drive/MyDrive/INSAID Dataset/Fraud.csv\"\n",
        "df = pd.read_csv(path)"
      ],
      "metadata": {
        "id": "nWRMLL46DkcI"
      },
      "execution_count": 127,
      "outputs": []
    },
    {
      "cell_type": "code",
      "source": [
        "df.head()"
      ],
      "metadata": {
        "colab": {
          "base_uri": "https://localhost:8080/",
          "height": 206
        },
        "id": "Jv0vlMLRYFyp",
        "outputId": "e415fbba-f112-4bf8-a4df-7378c18998d6"
      },
      "execution_count": 128,
      "outputs": [
        {
          "output_type": "execute_result",
          "data": {
            "text/plain": [
              "   step      type    amount     nameOrig  oldbalanceOrg  newbalanceOrig  \\\n",
              "0     1   PAYMENT   9839.64  C1231006815       170136.0       160296.36   \n",
              "1     1   PAYMENT   1864.28  C1666544295        21249.0        19384.72   \n",
              "2     1  TRANSFER    181.00  C1305486145          181.0            0.00   \n",
              "3     1  CASH_OUT    181.00   C840083671          181.0            0.00   \n",
              "4     1   PAYMENT  11668.14  C2048537720        41554.0        29885.86   \n",
              "\n",
              "      nameDest  oldbalanceDest  newbalanceDest  isFraud  isFlaggedFraud  \n",
              "0  M1979787155             0.0             0.0        0               0  \n",
              "1  M2044282225             0.0             0.0        0               0  \n",
              "2   C553264065             0.0             0.0        1               0  \n",
              "3    C38997010         21182.0             0.0        1               0  \n",
              "4  M1230701703             0.0             0.0        0               0  "
            ],
            "text/html": [
              "\n",
              "  <div id=\"df-91252fb2-f24d-4f9a-bc46-d9ee71c96d61\">\n",
              "    <div class=\"colab-df-container\">\n",
              "      <div>\n",
              "<style scoped>\n",
              "    .dataframe tbody tr th:only-of-type {\n",
              "        vertical-align: middle;\n",
              "    }\n",
              "\n",
              "    .dataframe tbody tr th {\n",
              "        vertical-align: top;\n",
              "    }\n",
              "\n",
              "    .dataframe thead th {\n",
              "        text-align: right;\n",
              "    }\n",
              "</style>\n",
              "<table border=\"1\" class=\"dataframe\">\n",
              "  <thead>\n",
              "    <tr style=\"text-align: right;\">\n",
              "      <th></th>\n",
              "      <th>step</th>\n",
              "      <th>type</th>\n",
              "      <th>amount</th>\n",
              "      <th>nameOrig</th>\n",
              "      <th>oldbalanceOrg</th>\n",
              "      <th>newbalanceOrig</th>\n",
              "      <th>nameDest</th>\n",
              "      <th>oldbalanceDest</th>\n",
              "      <th>newbalanceDest</th>\n",
              "      <th>isFraud</th>\n",
              "      <th>isFlaggedFraud</th>\n",
              "    </tr>\n",
              "  </thead>\n",
              "  <tbody>\n",
              "    <tr>\n",
              "      <th>0</th>\n",
              "      <td>1</td>\n",
              "      <td>PAYMENT</td>\n",
              "      <td>9839.64</td>\n",
              "      <td>C1231006815</td>\n",
              "      <td>170136.0</td>\n",
              "      <td>160296.36</td>\n",
              "      <td>M1979787155</td>\n",
              "      <td>0.0</td>\n",
              "      <td>0.0</td>\n",
              "      <td>0</td>\n",
              "      <td>0</td>\n",
              "    </tr>\n",
              "    <tr>\n",
              "      <th>1</th>\n",
              "      <td>1</td>\n",
              "      <td>PAYMENT</td>\n",
              "      <td>1864.28</td>\n",
              "      <td>C1666544295</td>\n",
              "      <td>21249.0</td>\n",
              "      <td>19384.72</td>\n",
              "      <td>M2044282225</td>\n",
              "      <td>0.0</td>\n",
              "      <td>0.0</td>\n",
              "      <td>0</td>\n",
              "      <td>0</td>\n",
              "    </tr>\n",
              "    <tr>\n",
              "      <th>2</th>\n",
              "      <td>1</td>\n",
              "      <td>TRANSFER</td>\n",
              "      <td>181.00</td>\n",
              "      <td>C1305486145</td>\n",
              "      <td>181.0</td>\n",
              "      <td>0.00</td>\n",
              "      <td>C553264065</td>\n",
              "      <td>0.0</td>\n",
              "      <td>0.0</td>\n",
              "      <td>1</td>\n",
              "      <td>0</td>\n",
              "    </tr>\n",
              "    <tr>\n",
              "      <th>3</th>\n",
              "      <td>1</td>\n",
              "      <td>CASH_OUT</td>\n",
              "      <td>181.00</td>\n",
              "      <td>C840083671</td>\n",
              "      <td>181.0</td>\n",
              "      <td>0.00</td>\n",
              "      <td>C38997010</td>\n",
              "      <td>21182.0</td>\n",
              "      <td>0.0</td>\n",
              "      <td>1</td>\n",
              "      <td>0</td>\n",
              "    </tr>\n",
              "    <tr>\n",
              "      <th>4</th>\n",
              "      <td>1</td>\n",
              "      <td>PAYMENT</td>\n",
              "      <td>11668.14</td>\n",
              "      <td>C2048537720</td>\n",
              "      <td>41554.0</td>\n",
              "      <td>29885.86</td>\n",
              "      <td>M1230701703</td>\n",
              "      <td>0.0</td>\n",
              "      <td>0.0</td>\n",
              "      <td>0</td>\n",
              "      <td>0</td>\n",
              "    </tr>\n",
              "  </tbody>\n",
              "</table>\n",
              "</div>\n",
              "      <button class=\"colab-df-convert\" onclick=\"convertToInteractive('df-91252fb2-f24d-4f9a-bc46-d9ee71c96d61')\"\n",
              "              title=\"Convert this dataframe to an interactive table.\"\n",
              "              style=\"display:none;\">\n",
              "        \n",
              "  <svg xmlns=\"http://www.w3.org/2000/svg\" height=\"24px\"viewBox=\"0 0 24 24\"\n",
              "       width=\"24px\">\n",
              "    <path d=\"M0 0h24v24H0V0z\" fill=\"none\"/>\n",
              "    <path d=\"M18.56 5.44l.94 2.06.94-2.06 2.06-.94-2.06-.94-.94-2.06-.94 2.06-2.06.94zm-11 1L8.5 8.5l.94-2.06 2.06-.94-2.06-.94L8.5 2.5l-.94 2.06-2.06.94zm10 10l.94 2.06.94-2.06 2.06-.94-2.06-.94-.94-2.06-.94 2.06-2.06.94z\"/><path d=\"M17.41 7.96l-1.37-1.37c-.4-.4-.92-.59-1.43-.59-.52 0-1.04.2-1.43.59L10.3 9.45l-7.72 7.72c-.78.78-.78 2.05 0 2.83L4 21.41c.39.39.9.59 1.41.59.51 0 1.02-.2 1.41-.59l7.78-7.78 2.81-2.81c.8-.78.8-2.07 0-2.86zM5.41 20L4 18.59l7.72-7.72 1.47 1.35L5.41 20z\"/>\n",
              "  </svg>\n",
              "      </button>\n",
              "      \n",
              "  <style>\n",
              "    .colab-df-container {\n",
              "      display:flex;\n",
              "      flex-wrap:wrap;\n",
              "      gap: 12px;\n",
              "    }\n",
              "\n",
              "    .colab-df-convert {\n",
              "      background-color: #E8F0FE;\n",
              "      border: none;\n",
              "      border-radius: 50%;\n",
              "      cursor: pointer;\n",
              "      display: none;\n",
              "      fill: #1967D2;\n",
              "      height: 32px;\n",
              "      padding: 0 0 0 0;\n",
              "      width: 32px;\n",
              "    }\n",
              "\n",
              "    .colab-df-convert:hover {\n",
              "      background-color: #E2EBFA;\n",
              "      box-shadow: 0px 1px 2px rgba(60, 64, 67, 0.3), 0px 1px 3px 1px rgba(60, 64, 67, 0.15);\n",
              "      fill: #174EA6;\n",
              "    }\n",
              "\n",
              "    [theme=dark] .colab-df-convert {\n",
              "      background-color: #3B4455;\n",
              "      fill: #D2E3FC;\n",
              "    }\n",
              "\n",
              "    [theme=dark] .colab-df-convert:hover {\n",
              "      background-color: #434B5C;\n",
              "      box-shadow: 0px 1px 3px 1px rgba(0, 0, 0, 0.15);\n",
              "      filter: drop-shadow(0px 1px 2px rgba(0, 0, 0, 0.3));\n",
              "      fill: #FFFFFF;\n",
              "    }\n",
              "  </style>\n",
              "\n",
              "      <script>\n",
              "        const buttonEl =\n",
              "          document.querySelector('#df-91252fb2-f24d-4f9a-bc46-d9ee71c96d61 button.colab-df-convert');\n",
              "        buttonEl.style.display =\n",
              "          google.colab.kernel.accessAllowed ? 'block' : 'none';\n",
              "\n",
              "        async function convertToInteractive(key) {\n",
              "          const element = document.querySelector('#df-91252fb2-f24d-4f9a-bc46-d9ee71c96d61');\n",
              "          const dataTable =\n",
              "            await google.colab.kernel.invokeFunction('convertToInteractive',\n",
              "                                                     [key], {});\n",
              "          if (!dataTable) return;\n",
              "\n",
              "          const docLinkHtml = 'Like what you see? Visit the ' +\n",
              "            '<a target=\"_blank\" href=https://colab.research.google.com/notebooks/data_table.ipynb>data table notebook</a>'\n",
              "            + ' to learn more about interactive tables.';\n",
              "          element.innerHTML = '';\n",
              "          dataTable['output_type'] = 'display_data';\n",
              "          await google.colab.output.renderOutput(dataTable, element);\n",
              "          const docLink = document.createElement('div');\n",
              "          docLink.innerHTML = docLinkHtml;\n",
              "          element.appendChild(docLink);\n",
              "        }\n",
              "      </script>\n",
              "    </div>\n",
              "  </div>\n",
              "  "
            ]
          },
          "metadata": {},
          "execution_count": 128
        }
      ]
    },
    {
      "cell_type": "code",
      "source": [
        "df.shape"
      ],
      "metadata": {
        "colab": {
          "base_uri": "https://localhost:8080/"
        },
        "id": "onRtqJ9wYMHv",
        "outputId": "53deed90-fe1a-4c0d-e6a5-ac5553ed115c"
      },
      "execution_count": 129,
      "outputs": [
        {
          "output_type": "execute_result",
          "data": {
            "text/plain": [
              "(6362620, 11)"
            ]
          },
          "metadata": {},
          "execution_count": 129
        }
      ]
    },
    {
      "cell_type": "code",
      "source": [
        "df.sample(10)"
      ],
      "metadata": {
        "colab": {
          "base_uri": "https://localhost:8080/",
          "height": 363
        },
        "id": "OhcXhPe9CCkx",
        "outputId": "ab2f82b1-88db-4906-a373-89e603928ba9"
      },
      "execution_count": 130,
      "outputs": [
        {
          "output_type": "execute_result",
          "data": {
            "text/plain": [
              "         step      type     amount     nameOrig  oldbalanceOrg  \\\n",
              "4023271   299   PAYMENT   28047.77   C397641691      323507.65   \n",
              "3172424   238   PAYMENT    5709.88   C521901762       12651.26   \n",
              "1280400   135  TRANSFER  563806.15   C325210427      217287.00   \n",
              "5701109   398  TRANSFER  308174.96    C61848306       93457.20   \n",
              "5901468   403   PAYMENT    5489.23   C347930754       62244.00   \n",
              "814859     40  CASH_OUT  330273.44  C2098788974           0.00   \n",
              "1165804   132  TRANSFER  682278.69   C471905202           0.00   \n",
              "2835274   226  CASH_OUT  199196.43  C1094747489        5945.00   \n",
              "1884196   164  TRANSFER  767757.83   C142904552       76915.00   \n",
              "42107       9  CASH_OUT   59811.42   C123085367      129900.00   \n",
              "\n",
              "         newbalanceOrig     nameDest  oldbalanceDest  newbalanceDest  isFraud  \\\n",
              "4023271       295459.88  M2000267771            0.00            0.00        0   \n",
              "3172424         6941.39  M2066833466            0.00            0.00        0   \n",
              "1280400            0.00  C1735641121            0.00       563806.15        0   \n",
              "5701109            0.00   C661343866      1631294.38      1939469.34        0   \n",
              "5901468        56754.77  M1132434359            0.00            0.00        0   \n",
              "814859             0.00   C474364517       395569.91       725843.35        0   \n",
              "1165804            0.00  C1830915772       721117.75      1403396.43        0   \n",
              "2835274            0.00   C824285986      1039565.59      1238762.01        0   \n",
              "1884196            0.00  C1118400176      3425650.94      4193408.77        0   \n",
              "42107          70088.58  C1782113663      7651171.40      7662734.75        0   \n",
              "\n",
              "         isFlaggedFraud  \n",
              "4023271               0  \n",
              "3172424               0  \n",
              "1280400               0  \n",
              "5701109               0  \n",
              "5901468               0  \n",
              "814859                0  \n",
              "1165804               0  \n",
              "2835274               0  \n",
              "1884196               0  \n",
              "42107                 0  "
            ],
            "text/html": [
              "\n",
              "  <div id=\"df-ab641d3c-d580-42a3-bfff-695a4a342590\">\n",
              "    <div class=\"colab-df-container\">\n",
              "      <div>\n",
              "<style scoped>\n",
              "    .dataframe tbody tr th:only-of-type {\n",
              "        vertical-align: middle;\n",
              "    }\n",
              "\n",
              "    .dataframe tbody tr th {\n",
              "        vertical-align: top;\n",
              "    }\n",
              "\n",
              "    .dataframe thead th {\n",
              "        text-align: right;\n",
              "    }\n",
              "</style>\n",
              "<table border=\"1\" class=\"dataframe\">\n",
              "  <thead>\n",
              "    <tr style=\"text-align: right;\">\n",
              "      <th></th>\n",
              "      <th>step</th>\n",
              "      <th>type</th>\n",
              "      <th>amount</th>\n",
              "      <th>nameOrig</th>\n",
              "      <th>oldbalanceOrg</th>\n",
              "      <th>newbalanceOrig</th>\n",
              "      <th>nameDest</th>\n",
              "      <th>oldbalanceDest</th>\n",
              "      <th>newbalanceDest</th>\n",
              "      <th>isFraud</th>\n",
              "      <th>isFlaggedFraud</th>\n",
              "    </tr>\n",
              "  </thead>\n",
              "  <tbody>\n",
              "    <tr>\n",
              "      <th>4023271</th>\n",
              "      <td>299</td>\n",
              "      <td>PAYMENT</td>\n",
              "      <td>28047.77</td>\n",
              "      <td>C397641691</td>\n",
              "      <td>323507.65</td>\n",
              "      <td>295459.88</td>\n",
              "      <td>M2000267771</td>\n",
              "      <td>0.00</td>\n",
              "      <td>0.00</td>\n",
              "      <td>0</td>\n",
              "      <td>0</td>\n",
              "    </tr>\n",
              "    <tr>\n",
              "      <th>3172424</th>\n",
              "      <td>238</td>\n",
              "      <td>PAYMENT</td>\n",
              "      <td>5709.88</td>\n",
              "      <td>C521901762</td>\n",
              "      <td>12651.26</td>\n",
              "      <td>6941.39</td>\n",
              "      <td>M2066833466</td>\n",
              "      <td>0.00</td>\n",
              "      <td>0.00</td>\n",
              "      <td>0</td>\n",
              "      <td>0</td>\n",
              "    </tr>\n",
              "    <tr>\n",
              "      <th>1280400</th>\n",
              "      <td>135</td>\n",
              "      <td>TRANSFER</td>\n",
              "      <td>563806.15</td>\n",
              "      <td>C325210427</td>\n",
              "      <td>217287.00</td>\n",
              "      <td>0.00</td>\n",
              "      <td>C1735641121</td>\n",
              "      <td>0.00</td>\n",
              "      <td>563806.15</td>\n",
              "      <td>0</td>\n",
              "      <td>0</td>\n",
              "    </tr>\n",
              "    <tr>\n",
              "      <th>5701109</th>\n",
              "      <td>398</td>\n",
              "      <td>TRANSFER</td>\n",
              "      <td>308174.96</td>\n",
              "      <td>C61848306</td>\n",
              "      <td>93457.20</td>\n",
              "      <td>0.00</td>\n",
              "      <td>C661343866</td>\n",
              "      <td>1631294.38</td>\n",
              "      <td>1939469.34</td>\n",
              "      <td>0</td>\n",
              "      <td>0</td>\n",
              "    </tr>\n",
              "    <tr>\n",
              "      <th>5901468</th>\n",
              "      <td>403</td>\n",
              "      <td>PAYMENT</td>\n",
              "      <td>5489.23</td>\n",
              "      <td>C347930754</td>\n",
              "      <td>62244.00</td>\n",
              "      <td>56754.77</td>\n",
              "      <td>M1132434359</td>\n",
              "      <td>0.00</td>\n",
              "      <td>0.00</td>\n",
              "      <td>0</td>\n",
              "      <td>0</td>\n",
              "    </tr>\n",
              "    <tr>\n",
              "      <th>814859</th>\n",
              "      <td>40</td>\n",
              "      <td>CASH_OUT</td>\n",
              "      <td>330273.44</td>\n",
              "      <td>C2098788974</td>\n",
              "      <td>0.00</td>\n",
              "      <td>0.00</td>\n",
              "      <td>C474364517</td>\n",
              "      <td>395569.91</td>\n",
              "      <td>725843.35</td>\n",
              "      <td>0</td>\n",
              "      <td>0</td>\n",
              "    </tr>\n",
              "    <tr>\n",
              "      <th>1165804</th>\n",
              "      <td>132</td>\n",
              "      <td>TRANSFER</td>\n",
              "      <td>682278.69</td>\n",
              "      <td>C471905202</td>\n",
              "      <td>0.00</td>\n",
              "      <td>0.00</td>\n",
              "      <td>C1830915772</td>\n",
              "      <td>721117.75</td>\n",
              "      <td>1403396.43</td>\n",
              "      <td>0</td>\n",
              "      <td>0</td>\n",
              "    </tr>\n",
              "    <tr>\n",
              "      <th>2835274</th>\n",
              "      <td>226</td>\n",
              "      <td>CASH_OUT</td>\n",
              "      <td>199196.43</td>\n",
              "      <td>C1094747489</td>\n",
              "      <td>5945.00</td>\n",
              "      <td>0.00</td>\n",
              "      <td>C824285986</td>\n",
              "      <td>1039565.59</td>\n",
              "      <td>1238762.01</td>\n",
              "      <td>0</td>\n",
              "      <td>0</td>\n",
              "    </tr>\n",
              "    <tr>\n",
              "      <th>1884196</th>\n",
              "      <td>164</td>\n",
              "      <td>TRANSFER</td>\n",
              "      <td>767757.83</td>\n",
              "      <td>C142904552</td>\n",
              "      <td>76915.00</td>\n",
              "      <td>0.00</td>\n",
              "      <td>C1118400176</td>\n",
              "      <td>3425650.94</td>\n",
              "      <td>4193408.77</td>\n",
              "      <td>0</td>\n",
              "      <td>0</td>\n",
              "    </tr>\n",
              "    <tr>\n",
              "      <th>42107</th>\n",
              "      <td>9</td>\n",
              "      <td>CASH_OUT</td>\n",
              "      <td>59811.42</td>\n",
              "      <td>C123085367</td>\n",
              "      <td>129900.00</td>\n",
              "      <td>70088.58</td>\n",
              "      <td>C1782113663</td>\n",
              "      <td>7651171.40</td>\n",
              "      <td>7662734.75</td>\n",
              "      <td>0</td>\n",
              "      <td>0</td>\n",
              "    </tr>\n",
              "  </tbody>\n",
              "</table>\n",
              "</div>\n",
              "      <button class=\"colab-df-convert\" onclick=\"convertToInteractive('df-ab641d3c-d580-42a3-bfff-695a4a342590')\"\n",
              "              title=\"Convert this dataframe to an interactive table.\"\n",
              "              style=\"display:none;\">\n",
              "        \n",
              "  <svg xmlns=\"http://www.w3.org/2000/svg\" height=\"24px\"viewBox=\"0 0 24 24\"\n",
              "       width=\"24px\">\n",
              "    <path d=\"M0 0h24v24H0V0z\" fill=\"none\"/>\n",
              "    <path d=\"M18.56 5.44l.94 2.06.94-2.06 2.06-.94-2.06-.94-.94-2.06-.94 2.06-2.06.94zm-11 1L8.5 8.5l.94-2.06 2.06-.94-2.06-.94L8.5 2.5l-.94 2.06-2.06.94zm10 10l.94 2.06.94-2.06 2.06-.94-2.06-.94-.94-2.06-.94 2.06-2.06.94z\"/><path d=\"M17.41 7.96l-1.37-1.37c-.4-.4-.92-.59-1.43-.59-.52 0-1.04.2-1.43.59L10.3 9.45l-7.72 7.72c-.78.78-.78 2.05 0 2.83L4 21.41c.39.39.9.59 1.41.59.51 0 1.02-.2 1.41-.59l7.78-7.78 2.81-2.81c.8-.78.8-2.07 0-2.86zM5.41 20L4 18.59l7.72-7.72 1.47 1.35L5.41 20z\"/>\n",
              "  </svg>\n",
              "      </button>\n",
              "      \n",
              "  <style>\n",
              "    .colab-df-container {\n",
              "      display:flex;\n",
              "      flex-wrap:wrap;\n",
              "      gap: 12px;\n",
              "    }\n",
              "\n",
              "    .colab-df-convert {\n",
              "      background-color: #E8F0FE;\n",
              "      border: none;\n",
              "      border-radius: 50%;\n",
              "      cursor: pointer;\n",
              "      display: none;\n",
              "      fill: #1967D2;\n",
              "      height: 32px;\n",
              "      padding: 0 0 0 0;\n",
              "      width: 32px;\n",
              "    }\n",
              "\n",
              "    .colab-df-convert:hover {\n",
              "      background-color: #E2EBFA;\n",
              "      box-shadow: 0px 1px 2px rgba(60, 64, 67, 0.3), 0px 1px 3px 1px rgba(60, 64, 67, 0.15);\n",
              "      fill: #174EA6;\n",
              "    }\n",
              "\n",
              "    [theme=dark] .colab-df-convert {\n",
              "      background-color: #3B4455;\n",
              "      fill: #D2E3FC;\n",
              "    }\n",
              "\n",
              "    [theme=dark] .colab-df-convert:hover {\n",
              "      background-color: #434B5C;\n",
              "      box-shadow: 0px 1px 3px 1px rgba(0, 0, 0, 0.15);\n",
              "      filter: drop-shadow(0px 1px 2px rgba(0, 0, 0, 0.3));\n",
              "      fill: #FFFFFF;\n",
              "    }\n",
              "  </style>\n",
              "\n",
              "      <script>\n",
              "        const buttonEl =\n",
              "          document.querySelector('#df-ab641d3c-d580-42a3-bfff-695a4a342590 button.colab-df-convert');\n",
              "        buttonEl.style.display =\n",
              "          google.colab.kernel.accessAllowed ? 'block' : 'none';\n",
              "\n",
              "        async function convertToInteractive(key) {\n",
              "          const element = document.querySelector('#df-ab641d3c-d580-42a3-bfff-695a4a342590');\n",
              "          const dataTable =\n",
              "            await google.colab.kernel.invokeFunction('convertToInteractive',\n",
              "                                                     [key], {});\n",
              "          if (!dataTable) return;\n",
              "\n",
              "          const docLinkHtml = 'Like what you see? Visit the ' +\n",
              "            '<a target=\"_blank\" href=https://colab.research.google.com/notebooks/data_table.ipynb>data table notebook</a>'\n",
              "            + ' to learn more about interactive tables.';\n",
              "          element.innerHTML = '';\n",
              "          dataTable['output_type'] = 'display_data';\n",
              "          await google.colab.output.renderOutput(dataTable, element);\n",
              "          const docLink = document.createElement('div');\n",
              "          docLink.innerHTML = docLinkHtml;\n",
              "          element.appendChild(docLink);\n",
              "        }\n",
              "      </script>\n",
              "    </div>\n",
              "  </div>\n",
              "  "
            ]
          },
          "metadata": {},
          "execution_count": 130
        }
      ]
    },
    {
      "cell_type": "code",
      "source": [
        "df.info()"
      ],
      "metadata": {
        "colab": {
          "base_uri": "https://localhost:8080/"
        },
        "id": "M8O9hfdSCQya",
        "outputId": "3562b039-9840-4074-e49c-95646c5141f8"
      },
      "execution_count": 131,
      "outputs": [
        {
          "output_type": "stream",
          "name": "stdout",
          "text": [
            "<class 'pandas.core.frame.DataFrame'>\n",
            "RangeIndex: 6362620 entries, 0 to 6362619\n",
            "Data columns (total 11 columns):\n",
            " #   Column          Dtype  \n",
            "---  ------          -----  \n",
            " 0   step            int64  \n",
            " 1   type            object \n",
            " 2   amount          float64\n",
            " 3   nameOrig        object \n",
            " 4   oldbalanceOrg   float64\n",
            " 5   newbalanceOrig  float64\n",
            " 6   nameDest        object \n",
            " 7   oldbalanceDest  float64\n",
            " 8   newbalanceDest  float64\n",
            " 9   isFraud         int64  \n",
            " 10  isFlaggedFraud  int64  \n",
            "dtypes: float64(5), int64(3), object(3)\n",
            "memory usage: 534.0+ MB\n"
          ]
        }
      ]
    },
    {
      "cell_type": "code",
      "source": [
        "#Check the fraud count\n",
        "df['isFraud'].value_counts() "
      ],
      "metadata": {
        "colab": {
          "base_uri": "https://localhost:8080/"
        },
        "id": "Em--uBVPgSUF",
        "outputId": "c10b3d58-5c3f-43b5-b2f0-dca48b5313d0"
      },
      "execution_count": 132,
      "outputs": [
        {
          "output_type": "execute_result",
          "data": {
            "text/plain": [
              "0    6354407\n",
              "1       8213\n",
              "Name: isFraud, dtype: int64"
            ]
          },
          "metadata": {},
          "execution_count": 132
        }
      ]
    },
    {
      "cell_type": "code",
      "source": [
        "#The isFlagged count\n",
        "df['isFlaggedFraud'].value_counts()"
      ],
      "metadata": {
        "colab": {
          "base_uri": "https://localhost:8080/"
        },
        "id": "Rig9FDtsgaCJ",
        "outputId": "0773e31a-a351-4c04-9f6c-0d7517c580c9"
      },
      "execution_count": 133,
      "outputs": [
        {
          "output_type": "execute_result",
          "data": {
            "text/plain": [
              "0    6362604\n",
              "1         16\n",
              "Name: isFlaggedFraud, dtype: int64"
            ]
          },
          "metadata": {},
          "execution_count": 133
        }
      ]
    },
    {
      "cell_type": "code",
      "source": [
        "#Some info about type of transanctions\n",
        "df['type'].value_counts()"
      ],
      "metadata": {
        "colab": {
          "base_uri": "https://localhost:8080/"
        },
        "id": "usdcGKobga2S",
        "outputId": "88bc8494-db5c-4b5a-f67d-38368e6e61eb"
      },
      "execution_count": 134,
      "outputs": [
        {
          "output_type": "execute_result",
          "data": {
            "text/plain": [
              "CASH_OUT    2237500\n",
              "PAYMENT     2151495\n",
              "CASH_IN     1399284\n",
              "TRANSFER     532909\n",
              "DEBIT         41432\n",
              "Name: type, dtype: int64"
            ]
          },
          "metadata": {},
          "execution_count": 134
        }
      ]
    },
    {
      "cell_type": "code",
      "source": [
        "#counting the total no. of different steps \n",
        "df['step'].value_counts().nunique()"
      ],
      "metadata": {
        "colab": {
          "base_uri": "https://localhost:8080/"
        },
        "id": "-ABiMXdAga0D",
        "outputId": "c222dc94-3bd3-4acf-e751-ee0381cb7250"
      },
      "execution_count": 135,
      "outputs": [
        {
          "output_type": "execute_result",
          "data": {
            "text/plain": [
              "428"
            ]
          },
          "metadata": {},
          "execution_count": 135
        }
      ]
    },
    {
      "cell_type": "code",
      "source": [
        "#10 most common transanction amounts\n",
        "df['amount'].value_counts().head(10)"
      ],
      "metadata": {
        "colab": {
          "base_uri": "https://localhost:8080/"
        },
        "id": "jAs3Y4FQiM1m",
        "outputId": "171d9650-412a-4348-acc4-15b2738bd8d5"
      },
      "execution_count": 136,
      "outputs": [
        {
          "output_type": "execute_result",
          "data": {
            "text/plain": [
              "10000000.0    3207\n",
              "10000.0         88\n",
              "5000.0          79\n",
              "15000.0         68\n",
              "500.0           65\n",
              "100000.0        42\n",
              "21500.0         37\n",
              "120000.0        29\n",
              "135000.0        20\n",
              "0.0             16\n",
              "Name: amount, dtype: int64"
            ]
          },
          "metadata": {},
          "execution_count": 136
        }
      ]
    },
    {
      "cell_type": "code",
      "source": [
        "#The types of transanctions that are fraudulent\n",
        "df.loc[df.isFraud == 1].type.drop_duplicates().values\n"
      ],
      "metadata": {
        "colab": {
          "base_uri": "https://localhost:8080/"
        },
        "id": "0ngXvJt7jYTj",
        "outputId": "b52ef791-91d7-4458-8120-bf70ea01d42d"
      },
      "execution_count": 137,
      "outputs": [
        {
          "output_type": "execute_result",
          "data": {
            "text/plain": [
              "array(['TRANSFER', 'CASH_OUT'], dtype=object)"
            ]
          },
          "metadata": {},
          "execution_count": 137
        }
      ]
    },
    {
      "cell_type": "code",
      "source": [
        "#Finding the transanctions which are flagged\n",
        "df.loc[df.isFlaggedFraud == 1 ].type.drop_duplicates().values"
      ],
      "metadata": {
        "colab": {
          "base_uri": "https://localhost:8080/"
        },
        "id": "RRNKz_qWjYQ7",
        "outputId": "79014166-a814-4ea0-ad0e-4a5e4761f493"
      },
      "execution_count": 138,
      "outputs": [
        {
          "output_type": "execute_result",
          "data": {
            "text/plain": [
              "array(['TRANSFER'], dtype=object)"
            ]
          },
          "metadata": {},
          "execution_count": 138
        }
      ]
    },
    {
      "cell_type": "markdown",
      "source": [
        "### Data Preprocessing"
      ],
      "metadata": {
        "id": "58zXXaFMtJ_h"
      }
    },
    {
      "cell_type": "code",
      "source": [
        "Xdf = df.loc[(df.type == 'TRANSFER') | (df.type == 'CASH_OUT')]\n",
        "Xdf.shape"
      ],
      "metadata": {
        "colab": {
          "base_uri": "https://localhost:8080/"
        },
        "id": "MyPyRuczxRhN",
        "outputId": "9f64d8f6-65e6-4212-c47e-6bc67c094e4c"
      },
      "execution_count": 139,
      "outputs": [
        {
          "output_type": "execute_result",
          "data": {
            "text/plain": [
              "(2770409, 11)"
            ]
          },
          "metadata": {},
          "execution_count": 139
        }
      ]
    },
    {
      "cell_type": "code",
      "source": [
        "Xdf['isFraud'].value_counts()"
      ],
      "metadata": {
        "colab": {
          "base_uri": "https://localhost:8080/"
        },
        "id": "QzwluxTvjYGq",
        "outputId": "ecbb0f2e-948b-4d7f-ff7d-727880dcb237"
      },
      "execution_count": 140,
      "outputs": [
        {
          "output_type": "execute_result",
          "data": {
            "text/plain": [
              "0    2762196\n",
              "1       8213\n",
              "Name: isFraud, dtype: int64"
            ]
          },
          "metadata": {},
          "execution_count": 140
        }
      ]
    },
    {
      "cell_type": "code",
      "source": [
        "# To calc the error from old and new balances\n",
        "Xdf['errorbalanceOrig'] = Xdf.newbalanceOrig  + Xdf.amount - Xdf.oldbalanceOrg \n",
        "Xdf['errorbalanceDest'] = Xdf.oldbalanceDest + Xdf.amount - Xdf.newbalanceDest"
      ],
      "metadata": {
        "colab": {
          "base_uri": "https://localhost:8080/"
        },
        "id": "kFZcBkK8y2NS",
        "outputId": "d81985fe-2b3f-46dc-ebd9-053189fe7f7c"
      },
      "execution_count": 141,
      "outputs": [
        {
          "output_type": "stream",
          "name": "stderr",
          "text": [
            "<ipython-input-141-b50c29ee2e1f>:2: SettingWithCopyWarning: \n",
            "A value is trying to be set on a copy of a slice from a DataFrame.\n",
            "Try using .loc[row_indexer,col_indexer] = value instead\n",
            "\n",
            "See the caveats in the documentation: https://pandas.pydata.org/pandas-docs/stable/user_guide/indexing.html#returning-a-view-versus-a-copy\n",
            "  Xdf['errorbalanceOrig'] = Xdf.newbalanceOrig  + Xdf.amount - Xdf.oldbalanceOrg\n",
            "<ipython-input-141-b50c29ee2e1f>:3: SettingWithCopyWarning: \n",
            "A value is trying to be set on a copy of a slice from a DataFrame.\n",
            "Try using .loc[row_indexer,col_indexer] = value instead\n",
            "\n",
            "See the caveats in the documentation: https://pandas.pydata.org/pandas-docs/stable/user_guide/indexing.html#returning-a-view-versus-a-copy\n",
            "  Xdf['errorbalanceDest'] = Xdf.oldbalanceDest + Xdf.amount - Xdf.newbalanceDest\n"
          ]
        }
      ]
    },
    {
      "cell_type": "code",
      "source": [
        "corr = Xdf.corr()\n",
        "corr"
      ],
      "metadata": {
        "colab": {
          "base_uri": "https://localhost:8080/",
          "height": 363
        },
        "id": "i-Bi6qCl3PGK",
        "outputId": "e44578eb-1e5d-4631-af84-7e29ca0e2194"
      },
      "execution_count": 142,
      "outputs": [
        {
          "output_type": "execute_result",
          "data": {
            "text/plain": [
              "                      step    amount  oldbalanceOrg  newbalanceOrig  \\\n",
              "step              1.000000  0.037007       0.005744       -0.011280   \n",
              "amount            0.037007  1.000000       0.120389        0.018296   \n",
              "oldbalanceOrg     0.005744  0.120389       1.000000        0.778826   \n",
              "newbalanceOrig   -0.011280  0.018296       0.778826        1.000000   \n",
              "oldbalanceDest    0.037778  0.307133      -0.020403       -0.012277   \n",
              "newbalanceDest    0.037475  0.497027      -0.010029       -0.015439   \n",
              "isFraud           0.048671  0.070660       0.347582        0.063557   \n",
              "isFlaggedFraud    0.005015  0.012301       0.074300        0.123957   \n",
              "errorbalanceOrig  0.033936  0.982838      -0.030438       -0.032263   \n",
              "errorbalanceDest  0.029010 -0.234198       0.113853        0.061630   \n",
              "\n",
              "                  oldbalanceDest  newbalanceDest   isFraud  isFlaggedFraud  \\\n",
              "step                    0.037778        0.037475  0.048671        0.005015   \n",
              "amount                  0.307133        0.497027  0.070660        0.012301   \n",
              "oldbalanceOrg          -0.020403       -0.010029  0.347582        0.074300   \n",
              "newbalanceOrig         -0.012277       -0.015439  0.063557        0.123957   \n",
              "oldbalanceDest          1.000000        0.970060 -0.014960       -0.000969   \n",
              "newbalanceDest          0.970060        1.000000 -0.008978       -0.001053   \n",
              "isFraud                -0.014960       -0.008978  1.000000        0.044072   \n",
              "isFlaggedFraud         -0.000969       -0.001053  0.044072        1.000000   \n",
              "errorbalanceOrig        0.315245        0.504317 -0.017149        0.012562   \n",
              "errorbalanceDest       -0.065281       -0.230329  0.069935        0.019802   \n",
              "\n",
              "                  errorbalanceOrig  errorbalanceDest  \n",
              "step                      0.033936          0.029010  \n",
              "amount                    0.982838         -0.234198  \n",
              "oldbalanceOrg            -0.030438          0.113853  \n",
              "newbalanceOrig           -0.032263          0.061630  \n",
              "oldbalanceDest            0.315245         -0.065281  \n",
              "newbalanceDest            0.504317         -0.230329  \n",
              "isFraud                  -0.017149          0.069935  \n",
              "isFlaggedFraud            0.012562          0.019802  \n",
              "errorbalanceOrig          1.000000         -0.259573  \n",
              "errorbalanceDest         -0.259573          1.000000  "
            ],
            "text/html": [
              "\n",
              "  <div id=\"df-394e264b-99d7-45d4-86f3-7a8340dc649f\">\n",
              "    <div class=\"colab-df-container\">\n",
              "      <div>\n",
              "<style scoped>\n",
              "    .dataframe tbody tr th:only-of-type {\n",
              "        vertical-align: middle;\n",
              "    }\n",
              "\n",
              "    .dataframe tbody tr th {\n",
              "        vertical-align: top;\n",
              "    }\n",
              "\n",
              "    .dataframe thead th {\n",
              "        text-align: right;\n",
              "    }\n",
              "</style>\n",
              "<table border=\"1\" class=\"dataframe\">\n",
              "  <thead>\n",
              "    <tr style=\"text-align: right;\">\n",
              "      <th></th>\n",
              "      <th>step</th>\n",
              "      <th>amount</th>\n",
              "      <th>oldbalanceOrg</th>\n",
              "      <th>newbalanceOrig</th>\n",
              "      <th>oldbalanceDest</th>\n",
              "      <th>newbalanceDest</th>\n",
              "      <th>isFraud</th>\n",
              "      <th>isFlaggedFraud</th>\n",
              "      <th>errorbalanceOrig</th>\n",
              "      <th>errorbalanceDest</th>\n",
              "    </tr>\n",
              "  </thead>\n",
              "  <tbody>\n",
              "    <tr>\n",
              "      <th>step</th>\n",
              "      <td>1.000000</td>\n",
              "      <td>0.037007</td>\n",
              "      <td>0.005744</td>\n",
              "      <td>-0.011280</td>\n",
              "      <td>0.037778</td>\n",
              "      <td>0.037475</td>\n",
              "      <td>0.048671</td>\n",
              "      <td>0.005015</td>\n",
              "      <td>0.033936</td>\n",
              "      <td>0.029010</td>\n",
              "    </tr>\n",
              "    <tr>\n",
              "      <th>amount</th>\n",
              "      <td>0.037007</td>\n",
              "      <td>1.000000</td>\n",
              "      <td>0.120389</td>\n",
              "      <td>0.018296</td>\n",
              "      <td>0.307133</td>\n",
              "      <td>0.497027</td>\n",
              "      <td>0.070660</td>\n",
              "      <td>0.012301</td>\n",
              "      <td>0.982838</td>\n",
              "      <td>-0.234198</td>\n",
              "    </tr>\n",
              "    <tr>\n",
              "      <th>oldbalanceOrg</th>\n",
              "      <td>0.005744</td>\n",
              "      <td>0.120389</td>\n",
              "      <td>1.000000</td>\n",
              "      <td>0.778826</td>\n",
              "      <td>-0.020403</td>\n",
              "      <td>-0.010029</td>\n",
              "      <td>0.347582</td>\n",
              "      <td>0.074300</td>\n",
              "      <td>-0.030438</td>\n",
              "      <td>0.113853</td>\n",
              "    </tr>\n",
              "    <tr>\n",
              "      <th>newbalanceOrig</th>\n",
              "      <td>-0.011280</td>\n",
              "      <td>0.018296</td>\n",
              "      <td>0.778826</td>\n",
              "      <td>1.000000</td>\n",
              "      <td>-0.012277</td>\n",
              "      <td>-0.015439</td>\n",
              "      <td>0.063557</td>\n",
              "      <td>0.123957</td>\n",
              "      <td>-0.032263</td>\n",
              "      <td>0.061630</td>\n",
              "    </tr>\n",
              "    <tr>\n",
              "      <th>oldbalanceDest</th>\n",
              "      <td>0.037778</td>\n",
              "      <td>0.307133</td>\n",
              "      <td>-0.020403</td>\n",
              "      <td>-0.012277</td>\n",
              "      <td>1.000000</td>\n",
              "      <td>0.970060</td>\n",
              "      <td>-0.014960</td>\n",
              "      <td>-0.000969</td>\n",
              "      <td>0.315245</td>\n",
              "      <td>-0.065281</td>\n",
              "    </tr>\n",
              "    <tr>\n",
              "      <th>newbalanceDest</th>\n",
              "      <td>0.037475</td>\n",
              "      <td>0.497027</td>\n",
              "      <td>-0.010029</td>\n",
              "      <td>-0.015439</td>\n",
              "      <td>0.970060</td>\n",
              "      <td>1.000000</td>\n",
              "      <td>-0.008978</td>\n",
              "      <td>-0.001053</td>\n",
              "      <td>0.504317</td>\n",
              "      <td>-0.230329</td>\n",
              "    </tr>\n",
              "    <tr>\n",
              "      <th>isFraud</th>\n",
              "      <td>0.048671</td>\n",
              "      <td>0.070660</td>\n",
              "      <td>0.347582</td>\n",
              "      <td>0.063557</td>\n",
              "      <td>-0.014960</td>\n",
              "      <td>-0.008978</td>\n",
              "      <td>1.000000</td>\n",
              "      <td>0.044072</td>\n",
              "      <td>-0.017149</td>\n",
              "      <td>0.069935</td>\n",
              "    </tr>\n",
              "    <tr>\n",
              "      <th>isFlaggedFraud</th>\n",
              "      <td>0.005015</td>\n",
              "      <td>0.012301</td>\n",
              "      <td>0.074300</td>\n",
              "      <td>0.123957</td>\n",
              "      <td>-0.000969</td>\n",
              "      <td>-0.001053</td>\n",
              "      <td>0.044072</td>\n",
              "      <td>1.000000</td>\n",
              "      <td>0.012562</td>\n",
              "      <td>0.019802</td>\n",
              "    </tr>\n",
              "    <tr>\n",
              "      <th>errorbalanceOrig</th>\n",
              "      <td>0.033936</td>\n",
              "      <td>0.982838</td>\n",
              "      <td>-0.030438</td>\n",
              "      <td>-0.032263</td>\n",
              "      <td>0.315245</td>\n",
              "      <td>0.504317</td>\n",
              "      <td>-0.017149</td>\n",
              "      <td>0.012562</td>\n",
              "      <td>1.000000</td>\n",
              "      <td>-0.259573</td>\n",
              "    </tr>\n",
              "    <tr>\n",
              "      <th>errorbalanceDest</th>\n",
              "      <td>0.029010</td>\n",
              "      <td>-0.234198</td>\n",
              "      <td>0.113853</td>\n",
              "      <td>0.061630</td>\n",
              "      <td>-0.065281</td>\n",
              "      <td>-0.230329</td>\n",
              "      <td>0.069935</td>\n",
              "      <td>0.019802</td>\n",
              "      <td>-0.259573</td>\n",
              "      <td>1.000000</td>\n",
              "    </tr>\n",
              "  </tbody>\n",
              "</table>\n",
              "</div>\n",
              "      <button class=\"colab-df-convert\" onclick=\"convertToInteractive('df-394e264b-99d7-45d4-86f3-7a8340dc649f')\"\n",
              "              title=\"Convert this dataframe to an interactive table.\"\n",
              "              style=\"display:none;\">\n",
              "        \n",
              "  <svg xmlns=\"http://www.w3.org/2000/svg\" height=\"24px\"viewBox=\"0 0 24 24\"\n",
              "       width=\"24px\">\n",
              "    <path d=\"M0 0h24v24H0V0z\" fill=\"none\"/>\n",
              "    <path d=\"M18.56 5.44l.94 2.06.94-2.06 2.06-.94-2.06-.94-.94-2.06-.94 2.06-2.06.94zm-11 1L8.5 8.5l.94-2.06 2.06-.94-2.06-.94L8.5 2.5l-.94 2.06-2.06.94zm10 10l.94 2.06.94-2.06 2.06-.94-2.06-.94-.94-2.06-.94 2.06-2.06.94z\"/><path d=\"M17.41 7.96l-1.37-1.37c-.4-.4-.92-.59-1.43-.59-.52 0-1.04.2-1.43.59L10.3 9.45l-7.72 7.72c-.78.78-.78 2.05 0 2.83L4 21.41c.39.39.9.59 1.41.59.51 0 1.02-.2 1.41-.59l7.78-7.78 2.81-2.81c.8-.78.8-2.07 0-2.86zM5.41 20L4 18.59l7.72-7.72 1.47 1.35L5.41 20z\"/>\n",
              "  </svg>\n",
              "      </button>\n",
              "      \n",
              "  <style>\n",
              "    .colab-df-container {\n",
              "      display:flex;\n",
              "      flex-wrap:wrap;\n",
              "      gap: 12px;\n",
              "    }\n",
              "\n",
              "    .colab-df-convert {\n",
              "      background-color: #E8F0FE;\n",
              "      border: none;\n",
              "      border-radius: 50%;\n",
              "      cursor: pointer;\n",
              "      display: none;\n",
              "      fill: #1967D2;\n",
              "      height: 32px;\n",
              "      padding: 0 0 0 0;\n",
              "      width: 32px;\n",
              "    }\n",
              "\n",
              "    .colab-df-convert:hover {\n",
              "      background-color: #E2EBFA;\n",
              "      box-shadow: 0px 1px 2px rgba(60, 64, 67, 0.3), 0px 1px 3px 1px rgba(60, 64, 67, 0.15);\n",
              "      fill: #174EA6;\n",
              "    }\n",
              "\n",
              "    [theme=dark] .colab-df-convert {\n",
              "      background-color: #3B4455;\n",
              "      fill: #D2E3FC;\n",
              "    }\n",
              "\n",
              "    [theme=dark] .colab-df-convert:hover {\n",
              "      background-color: #434B5C;\n",
              "      box-shadow: 0px 1px 3px 1px rgba(0, 0, 0, 0.15);\n",
              "      filter: drop-shadow(0px 1px 2px rgba(0, 0, 0, 0.3));\n",
              "      fill: #FFFFFF;\n",
              "    }\n",
              "  </style>\n",
              "\n",
              "      <script>\n",
              "        const buttonEl =\n",
              "          document.querySelector('#df-394e264b-99d7-45d4-86f3-7a8340dc649f button.colab-df-convert');\n",
              "        buttonEl.style.display =\n",
              "          google.colab.kernel.accessAllowed ? 'block' : 'none';\n",
              "\n",
              "        async function convertToInteractive(key) {\n",
              "          const element = document.querySelector('#df-394e264b-99d7-45d4-86f3-7a8340dc649f');\n",
              "          const dataTable =\n",
              "            await google.colab.kernel.invokeFunction('convertToInteractive',\n",
              "                                                     [key], {});\n",
              "          if (!dataTable) return;\n",
              "\n",
              "          const docLinkHtml = 'Like what you see? Visit the ' +\n",
              "            '<a target=\"_blank\" href=https://colab.research.google.com/notebooks/data_table.ipynb>data table notebook</a>'\n",
              "            + ' to learn more about interactive tables.';\n",
              "          element.innerHTML = '';\n",
              "          dataTable['output_type'] = 'display_data';\n",
              "          await google.colab.output.renderOutput(dataTable, element);\n",
              "          const docLink = document.createElement('div');\n",
              "          docLink.innerHTML = docLinkHtml;\n",
              "          element.appendChild(docLink);\n",
              "        }\n",
              "      </script>\n",
              "    </div>\n",
              "  </div>\n",
              "  "
            ]
          },
          "metadata": {},
          "execution_count": 142
        }
      ]
    },
    {
      "cell_type": "code",
      "source": [
        "Xdf.head()"
      ],
      "metadata": {
        "colab": {
          "base_uri": "https://localhost:8080/",
          "height": 250
        },
        "id": "S9NPUlBM0oub",
        "outputId": "df8999f0-8f60-412a-85f5-5e39a6456423"
      },
      "execution_count": 143,
      "outputs": [
        {
          "output_type": "execute_result",
          "data": {
            "text/plain": [
              "    step      type     amount     nameOrig  oldbalanceOrg  newbalanceOrig  \\\n",
              "2      1  TRANSFER     181.00  C1305486145          181.0             0.0   \n",
              "3      1  CASH_OUT     181.00   C840083671          181.0             0.0   \n",
              "15     1  CASH_OUT  229133.94   C905080434        15325.0             0.0   \n",
              "19     1  TRANSFER  215310.30  C1670993182          705.0             0.0   \n",
              "24     1  TRANSFER  311685.89  C1984094095        10835.0             0.0   \n",
              "\n",
              "       nameDest  oldbalanceDest  newbalanceDest  isFraud  isFlaggedFraud  \\\n",
              "2    C553264065             0.0            0.00        1               0   \n",
              "3     C38997010         21182.0            0.00        1               0   \n",
              "15   C476402209          5083.0        51513.44        0               0   \n",
              "19  C1100439041         22425.0            0.00        0               0   \n",
              "24   C932583850          6267.0      2719172.89        0               0   \n",
              "\n",
              "    errorbalanceOrig  errorbalanceDest  \n",
              "2               0.00             181.0  \n",
              "3               0.00           21363.0  \n",
              "15         213808.94          182703.5  \n",
              "19         214605.30          237735.3  \n",
              "24         300850.89        -2401220.0  "
            ],
            "text/html": [
              "\n",
              "  <div id=\"df-c1c2d015-0fca-49d3-bbe7-cb1bcbf372fb\">\n",
              "    <div class=\"colab-df-container\">\n",
              "      <div>\n",
              "<style scoped>\n",
              "    .dataframe tbody tr th:only-of-type {\n",
              "        vertical-align: middle;\n",
              "    }\n",
              "\n",
              "    .dataframe tbody tr th {\n",
              "        vertical-align: top;\n",
              "    }\n",
              "\n",
              "    .dataframe thead th {\n",
              "        text-align: right;\n",
              "    }\n",
              "</style>\n",
              "<table border=\"1\" class=\"dataframe\">\n",
              "  <thead>\n",
              "    <tr style=\"text-align: right;\">\n",
              "      <th></th>\n",
              "      <th>step</th>\n",
              "      <th>type</th>\n",
              "      <th>amount</th>\n",
              "      <th>nameOrig</th>\n",
              "      <th>oldbalanceOrg</th>\n",
              "      <th>newbalanceOrig</th>\n",
              "      <th>nameDest</th>\n",
              "      <th>oldbalanceDest</th>\n",
              "      <th>newbalanceDest</th>\n",
              "      <th>isFraud</th>\n",
              "      <th>isFlaggedFraud</th>\n",
              "      <th>errorbalanceOrig</th>\n",
              "      <th>errorbalanceDest</th>\n",
              "    </tr>\n",
              "  </thead>\n",
              "  <tbody>\n",
              "    <tr>\n",
              "      <th>2</th>\n",
              "      <td>1</td>\n",
              "      <td>TRANSFER</td>\n",
              "      <td>181.00</td>\n",
              "      <td>C1305486145</td>\n",
              "      <td>181.0</td>\n",
              "      <td>0.0</td>\n",
              "      <td>C553264065</td>\n",
              "      <td>0.0</td>\n",
              "      <td>0.00</td>\n",
              "      <td>1</td>\n",
              "      <td>0</td>\n",
              "      <td>0.00</td>\n",
              "      <td>181.0</td>\n",
              "    </tr>\n",
              "    <tr>\n",
              "      <th>3</th>\n",
              "      <td>1</td>\n",
              "      <td>CASH_OUT</td>\n",
              "      <td>181.00</td>\n",
              "      <td>C840083671</td>\n",
              "      <td>181.0</td>\n",
              "      <td>0.0</td>\n",
              "      <td>C38997010</td>\n",
              "      <td>21182.0</td>\n",
              "      <td>0.00</td>\n",
              "      <td>1</td>\n",
              "      <td>0</td>\n",
              "      <td>0.00</td>\n",
              "      <td>21363.0</td>\n",
              "    </tr>\n",
              "    <tr>\n",
              "      <th>15</th>\n",
              "      <td>1</td>\n",
              "      <td>CASH_OUT</td>\n",
              "      <td>229133.94</td>\n",
              "      <td>C905080434</td>\n",
              "      <td>15325.0</td>\n",
              "      <td>0.0</td>\n",
              "      <td>C476402209</td>\n",
              "      <td>5083.0</td>\n",
              "      <td>51513.44</td>\n",
              "      <td>0</td>\n",
              "      <td>0</td>\n",
              "      <td>213808.94</td>\n",
              "      <td>182703.5</td>\n",
              "    </tr>\n",
              "    <tr>\n",
              "      <th>19</th>\n",
              "      <td>1</td>\n",
              "      <td>TRANSFER</td>\n",
              "      <td>215310.30</td>\n",
              "      <td>C1670993182</td>\n",
              "      <td>705.0</td>\n",
              "      <td>0.0</td>\n",
              "      <td>C1100439041</td>\n",
              "      <td>22425.0</td>\n",
              "      <td>0.00</td>\n",
              "      <td>0</td>\n",
              "      <td>0</td>\n",
              "      <td>214605.30</td>\n",
              "      <td>237735.3</td>\n",
              "    </tr>\n",
              "    <tr>\n",
              "      <th>24</th>\n",
              "      <td>1</td>\n",
              "      <td>TRANSFER</td>\n",
              "      <td>311685.89</td>\n",
              "      <td>C1984094095</td>\n",
              "      <td>10835.0</td>\n",
              "      <td>0.0</td>\n",
              "      <td>C932583850</td>\n",
              "      <td>6267.0</td>\n",
              "      <td>2719172.89</td>\n",
              "      <td>0</td>\n",
              "      <td>0</td>\n",
              "      <td>300850.89</td>\n",
              "      <td>-2401220.0</td>\n",
              "    </tr>\n",
              "  </tbody>\n",
              "</table>\n",
              "</div>\n",
              "      <button class=\"colab-df-convert\" onclick=\"convertToInteractive('df-c1c2d015-0fca-49d3-bbe7-cb1bcbf372fb')\"\n",
              "              title=\"Convert this dataframe to an interactive table.\"\n",
              "              style=\"display:none;\">\n",
              "        \n",
              "  <svg xmlns=\"http://www.w3.org/2000/svg\" height=\"24px\"viewBox=\"0 0 24 24\"\n",
              "       width=\"24px\">\n",
              "    <path d=\"M0 0h24v24H0V0z\" fill=\"none\"/>\n",
              "    <path d=\"M18.56 5.44l.94 2.06.94-2.06 2.06-.94-2.06-.94-.94-2.06-.94 2.06-2.06.94zm-11 1L8.5 8.5l.94-2.06 2.06-.94-2.06-.94L8.5 2.5l-.94 2.06-2.06.94zm10 10l.94 2.06.94-2.06 2.06-.94-2.06-.94-.94-2.06-.94 2.06-2.06.94z\"/><path d=\"M17.41 7.96l-1.37-1.37c-.4-.4-.92-.59-1.43-.59-.52 0-1.04.2-1.43.59L10.3 9.45l-7.72 7.72c-.78.78-.78 2.05 0 2.83L4 21.41c.39.39.9.59 1.41.59.51 0 1.02-.2 1.41-.59l7.78-7.78 2.81-2.81c.8-.78.8-2.07 0-2.86zM5.41 20L4 18.59l7.72-7.72 1.47 1.35L5.41 20z\"/>\n",
              "  </svg>\n",
              "      </button>\n",
              "      \n",
              "  <style>\n",
              "    .colab-df-container {\n",
              "      display:flex;\n",
              "      flex-wrap:wrap;\n",
              "      gap: 12px;\n",
              "    }\n",
              "\n",
              "    .colab-df-convert {\n",
              "      background-color: #E8F0FE;\n",
              "      border: none;\n",
              "      border-radius: 50%;\n",
              "      cursor: pointer;\n",
              "      display: none;\n",
              "      fill: #1967D2;\n",
              "      height: 32px;\n",
              "      padding: 0 0 0 0;\n",
              "      width: 32px;\n",
              "    }\n",
              "\n",
              "    .colab-df-convert:hover {\n",
              "      background-color: #E2EBFA;\n",
              "      box-shadow: 0px 1px 2px rgba(60, 64, 67, 0.3), 0px 1px 3px 1px rgba(60, 64, 67, 0.15);\n",
              "      fill: #174EA6;\n",
              "    }\n",
              "\n",
              "    [theme=dark] .colab-df-convert {\n",
              "      background-color: #3B4455;\n",
              "      fill: #D2E3FC;\n",
              "    }\n",
              "\n",
              "    [theme=dark] .colab-df-convert:hover {\n",
              "      background-color: #434B5C;\n",
              "      box-shadow: 0px 1px 3px 1px rgba(0, 0, 0, 0.15);\n",
              "      filter: drop-shadow(0px 1px 2px rgba(0, 0, 0, 0.3));\n",
              "      fill: #FFFFFF;\n",
              "    }\n",
              "  </style>\n",
              "\n",
              "      <script>\n",
              "        const buttonEl =\n",
              "          document.querySelector('#df-c1c2d015-0fca-49d3-bbe7-cb1bcbf372fb button.colab-df-convert');\n",
              "        buttonEl.style.display =\n",
              "          google.colab.kernel.accessAllowed ? 'block' : 'none';\n",
              "\n",
              "        async function convertToInteractive(key) {\n",
              "          const element = document.querySelector('#df-c1c2d015-0fca-49d3-bbe7-cb1bcbf372fb');\n",
              "          const dataTable =\n",
              "            await google.colab.kernel.invokeFunction('convertToInteractive',\n",
              "                                                     [key], {});\n",
              "          if (!dataTable) return;\n",
              "\n",
              "          const docLinkHtml = 'Like what you see? Visit the ' +\n",
              "            '<a target=\"_blank\" href=https://colab.research.google.com/notebooks/data_table.ipynb>data table notebook</a>'\n",
              "            + ' to learn more about interactive tables.';\n",
              "          element.innerHTML = '';\n",
              "          dataTable['output_type'] = 'display_data';\n",
              "          await google.colab.output.renderOutput(dataTable, element);\n",
              "          const docLink = document.createElement('div');\n",
              "          docLink.innerHTML = docLinkHtml;\n",
              "          element.appendChild(docLink);\n",
              "        }\n",
              "      </script>\n",
              "    </div>\n",
              "  </div>\n",
              "  "
            ]
          },
          "metadata": {},
          "execution_count": 143
        }
      ]
    },
    {
      "cell_type": "code",
      "source": [
        "Xdf.info()"
      ],
      "metadata": {
        "colab": {
          "base_uri": "https://localhost:8080/"
        },
        "id": "bbFk-kjy0tMT",
        "outputId": "e29aecaf-588b-4227-e7fb-1f514955a49d"
      },
      "execution_count": 144,
      "outputs": [
        {
          "output_type": "stream",
          "name": "stdout",
          "text": [
            "<class 'pandas.core.frame.DataFrame'>\n",
            "Int64Index: 2770409 entries, 2 to 6362619\n",
            "Data columns (total 13 columns):\n",
            " #   Column            Dtype  \n",
            "---  ------            -----  \n",
            " 0   step              int64  \n",
            " 1   type              object \n",
            " 2   amount            float64\n",
            " 3   nameOrig          object \n",
            " 4   oldbalanceOrg     float64\n",
            " 5   newbalanceOrig    float64\n",
            " 6   nameDest          object \n",
            " 7   oldbalanceDest    float64\n",
            " 8   newbalanceDest    float64\n",
            " 9   isFraud           int64  \n",
            " 10  isFlaggedFraud    int64  \n",
            " 11  errorbalanceOrig  float64\n",
            " 12  errorbalanceDest  float64\n",
            "dtypes: float64(7), int64(3), object(3)\n",
            "memory usage: 295.9+ MB\n"
          ]
        }
      ]
    },
    {
      "cell_type": "code",
      "source": [
        "X = Xdf.drop([\"isFraud\", \"isFlaggedFraud\", \"nameOrig\", \"nameDest\"], axis = 1)\n",
        "y = Xdf[\"isFraud\"].values\n",
        "X.shape, y.shape"
      ],
      "metadata": {
        "colab": {
          "base_uri": "https://localhost:8080/"
        },
        "id": "yipxgQl93fMW",
        "outputId": "7f6f58c7-7dc4-43e8-9710-17ff58a83128"
      },
      "execution_count": 145,
      "outputs": [
        {
          "output_type": "execute_result",
          "data": {
            "text/plain": [
              "((2770409, 9), (2770409,))"
            ]
          },
          "metadata": {},
          "execution_count": 145
        }
      ]
    },
    {
      "cell_type": "code",
      "source": [
        "#Lable encoding the transanction type\n",
        "X['type'].replace('TRANSFER', 0, inplace = True)\n",
        "X['type'].replace('CASH_OUT', 1, inplace = True)"
      ],
      "metadata": {
        "id": "IH77qE4c00K7"
      },
      "execution_count": 146,
      "outputs": []
    },
    {
      "cell_type": "code",
      "source": [
        "X[:10]"
      ],
      "metadata": {
        "colab": {
          "base_uri": "https://localhost:8080/",
          "height": 363
        },
        "id": "srzDOolZ6wsk",
        "outputId": "38238e5d-5bea-46c1-ae70-5726a9979558"
      },
      "execution_count": 147,
      "outputs": [
        {
          "output_type": "execute_result",
          "data": {
            "text/plain": [
              "    step  type     amount  oldbalanceOrg  newbalanceOrig  oldbalanceDest  \\\n",
              "2      1     0     181.00         181.00             0.0             0.0   \n",
              "3      1     1     181.00         181.00             0.0         21182.0   \n",
              "15     1     1  229133.94       15325.00             0.0          5083.0   \n",
              "19     1     0  215310.30         705.00             0.0         22425.0   \n",
              "24     1     0  311685.89       10835.00             0.0          6267.0   \n",
              "42     1     1  110414.71       26845.41             0.0        288800.0   \n",
              "47     1     1   56953.90        1942.02             0.0         70253.0   \n",
              "48     1     1    5346.89           0.00             0.0        652637.0   \n",
              "51     1     1   23261.30       20411.53             0.0         25742.0   \n",
              "58     1     0   62610.80       79114.00         16503.2           517.0   \n",
              "\n",
              "    newbalanceDest  errorbalanceOrig  errorbalanceDest  \n",
              "2             0.00              0.00            181.00  \n",
              "3             0.00              0.00          21363.00  \n",
              "15        51513.44         213808.94         182703.50  \n",
              "19            0.00         214605.30         237735.30  \n",
              "24      2719172.89         300850.89       -2401220.00  \n",
              "42         2415.16          83569.30         396799.55  \n",
              "47        64106.18          55011.88          63100.72  \n",
              "48      6453430.91           5346.89       -5795447.02  \n",
              "51            0.00           2849.77          49003.30  \n",
              "58         8383.29              0.00          54744.51  "
            ],
            "text/html": [
              "\n",
              "  <div id=\"df-77b8c162-d82c-4020-b92e-101c1fa15361\">\n",
              "    <div class=\"colab-df-container\">\n",
              "      <div>\n",
              "<style scoped>\n",
              "    .dataframe tbody tr th:only-of-type {\n",
              "        vertical-align: middle;\n",
              "    }\n",
              "\n",
              "    .dataframe tbody tr th {\n",
              "        vertical-align: top;\n",
              "    }\n",
              "\n",
              "    .dataframe thead th {\n",
              "        text-align: right;\n",
              "    }\n",
              "</style>\n",
              "<table border=\"1\" class=\"dataframe\">\n",
              "  <thead>\n",
              "    <tr style=\"text-align: right;\">\n",
              "      <th></th>\n",
              "      <th>step</th>\n",
              "      <th>type</th>\n",
              "      <th>amount</th>\n",
              "      <th>oldbalanceOrg</th>\n",
              "      <th>newbalanceOrig</th>\n",
              "      <th>oldbalanceDest</th>\n",
              "      <th>newbalanceDest</th>\n",
              "      <th>errorbalanceOrig</th>\n",
              "      <th>errorbalanceDest</th>\n",
              "    </tr>\n",
              "  </thead>\n",
              "  <tbody>\n",
              "    <tr>\n",
              "      <th>2</th>\n",
              "      <td>1</td>\n",
              "      <td>0</td>\n",
              "      <td>181.00</td>\n",
              "      <td>181.00</td>\n",
              "      <td>0.0</td>\n",
              "      <td>0.0</td>\n",
              "      <td>0.00</td>\n",
              "      <td>0.00</td>\n",
              "      <td>181.00</td>\n",
              "    </tr>\n",
              "    <tr>\n",
              "      <th>3</th>\n",
              "      <td>1</td>\n",
              "      <td>1</td>\n",
              "      <td>181.00</td>\n",
              "      <td>181.00</td>\n",
              "      <td>0.0</td>\n",
              "      <td>21182.0</td>\n",
              "      <td>0.00</td>\n",
              "      <td>0.00</td>\n",
              "      <td>21363.00</td>\n",
              "    </tr>\n",
              "    <tr>\n",
              "      <th>15</th>\n",
              "      <td>1</td>\n",
              "      <td>1</td>\n",
              "      <td>229133.94</td>\n",
              "      <td>15325.00</td>\n",
              "      <td>0.0</td>\n",
              "      <td>5083.0</td>\n",
              "      <td>51513.44</td>\n",
              "      <td>213808.94</td>\n",
              "      <td>182703.50</td>\n",
              "    </tr>\n",
              "    <tr>\n",
              "      <th>19</th>\n",
              "      <td>1</td>\n",
              "      <td>0</td>\n",
              "      <td>215310.30</td>\n",
              "      <td>705.00</td>\n",
              "      <td>0.0</td>\n",
              "      <td>22425.0</td>\n",
              "      <td>0.00</td>\n",
              "      <td>214605.30</td>\n",
              "      <td>237735.30</td>\n",
              "    </tr>\n",
              "    <tr>\n",
              "      <th>24</th>\n",
              "      <td>1</td>\n",
              "      <td>0</td>\n",
              "      <td>311685.89</td>\n",
              "      <td>10835.00</td>\n",
              "      <td>0.0</td>\n",
              "      <td>6267.0</td>\n",
              "      <td>2719172.89</td>\n",
              "      <td>300850.89</td>\n",
              "      <td>-2401220.00</td>\n",
              "    </tr>\n",
              "    <tr>\n",
              "      <th>42</th>\n",
              "      <td>1</td>\n",
              "      <td>1</td>\n",
              "      <td>110414.71</td>\n",
              "      <td>26845.41</td>\n",
              "      <td>0.0</td>\n",
              "      <td>288800.0</td>\n",
              "      <td>2415.16</td>\n",
              "      <td>83569.30</td>\n",
              "      <td>396799.55</td>\n",
              "    </tr>\n",
              "    <tr>\n",
              "      <th>47</th>\n",
              "      <td>1</td>\n",
              "      <td>1</td>\n",
              "      <td>56953.90</td>\n",
              "      <td>1942.02</td>\n",
              "      <td>0.0</td>\n",
              "      <td>70253.0</td>\n",
              "      <td>64106.18</td>\n",
              "      <td>55011.88</td>\n",
              "      <td>63100.72</td>\n",
              "    </tr>\n",
              "    <tr>\n",
              "      <th>48</th>\n",
              "      <td>1</td>\n",
              "      <td>1</td>\n",
              "      <td>5346.89</td>\n",
              "      <td>0.00</td>\n",
              "      <td>0.0</td>\n",
              "      <td>652637.0</td>\n",
              "      <td>6453430.91</td>\n",
              "      <td>5346.89</td>\n",
              "      <td>-5795447.02</td>\n",
              "    </tr>\n",
              "    <tr>\n",
              "      <th>51</th>\n",
              "      <td>1</td>\n",
              "      <td>1</td>\n",
              "      <td>23261.30</td>\n",
              "      <td>20411.53</td>\n",
              "      <td>0.0</td>\n",
              "      <td>25742.0</td>\n",
              "      <td>0.00</td>\n",
              "      <td>2849.77</td>\n",
              "      <td>49003.30</td>\n",
              "    </tr>\n",
              "    <tr>\n",
              "      <th>58</th>\n",
              "      <td>1</td>\n",
              "      <td>0</td>\n",
              "      <td>62610.80</td>\n",
              "      <td>79114.00</td>\n",
              "      <td>16503.2</td>\n",
              "      <td>517.0</td>\n",
              "      <td>8383.29</td>\n",
              "      <td>0.00</td>\n",
              "      <td>54744.51</td>\n",
              "    </tr>\n",
              "  </tbody>\n",
              "</table>\n",
              "</div>\n",
              "      <button class=\"colab-df-convert\" onclick=\"convertToInteractive('df-77b8c162-d82c-4020-b92e-101c1fa15361')\"\n",
              "              title=\"Convert this dataframe to an interactive table.\"\n",
              "              style=\"display:none;\">\n",
              "        \n",
              "  <svg xmlns=\"http://www.w3.org/2000/svg\" height=\"24px\"viewBox=\"0 0 24 24\"\n",
              "       width=\"24px\">\n",
              "    <path d=\"M0 0h24v24H0V0z\" fill=\"none\"/>\n",
              "    <path d=\"M18.56 5.44l.94 2.06.94-2.06 2.06-.94-2.06-.94-.94-2.06-.94 2.06-2.06.94zm-11 1L8.5 8.5l.94-2.06 2.06-.94-2.06-.94L8.5 2.5l-.94 2.06-2.06.94zm10 10l.94 2.06.94-2.06 2.06-.94-2.06-.94-.94-2.06-.94 2.06-2.06.94z\"/><path d=\"M17.41 7.96l-1.37-1.37c-.4-.4-.92-.59-1.43-.59-.52 0-1.04.2-1.43.59L10.3 9.45l-7.72 7.72c-.78.78-.78 2.05 0 2.83L4 21.41c.39.39.9.59 1.41.59.51 0 1.02-.2 1.41-.59l7.78-7.78 2.81-2.81c.8-.78.8-2.07 0-2.86zM5.41 20L4 18.59l7.72-7.72 1.47 1.35L5.41 20z\"/>\n",
              "  </svg>\n",
              "      </button>\n",
              "      \n",
              "  <style>\n",
              "    .colab-df-container {\n",
              "      display:flex;\n",
              "      flex-wrap:wrap;\n",
              "      gap: 12px;\n",
              "    }\n",
              "\n",
              "    .colab-df-convert {\n",
              "      background-color: #E8F0FE;\n",
              "      border: none;\n",
              "      border-radius: 50%;\n",
              "      cursor: pointer;\n",
              "      display: none;\n",
              "      fill: #1967D2;\n",
              "      height: 32px;\n",
              "      padding: 0 0 0 0;\n",
              "      width: 32px;\n",
              "    }\n",
              "\n",
              "    .colab-df-convert:hover {\n",
              "      background-color: #E2EBFA;\n",
              "      box-shadow: 0px 1px 2px rgba(60, 64, 67, 0.3), 0px 1px 3px 1px rgba(60, 64, 67, 0.15);\n",
              "      fill: #174EA6;\n",
              "    }\n",
              "\n",
              "    [theme=dark] .colab-df-convert {\n",
              "      background-color: #3B4455;\n",
              "      fill: #D2E3FC;\n",
              "    }\n",
              "\n",
              "    [theme=dark] .colab-df-convert:hover {\n",
              "      background-color: #434B5C;\n",
              "      box-shadow: 0px 1px 3px 1px rgba(0, 0, 0, 0.15);\n",
              "      filter: drop-shadow(0px 1px 2px rgba(0, 0, 0, 0.3));\n",
              "      fill: #FFFFFF;\n",
              "    }\n",
              "  </style>\n",
              "\n",
              "      <script>\n",
              "        const buttonEl =\n",
              "          document.querySelector('#df-77b8c162-d82c-4020-b92e-101c1fa15361 button.colab-df-convert');\n",
              "        buttonEl.style.display =\n",
              "          google.colab.kernel.accessAllowed ? 'block' : 'none';\n",
              "\n",
              "        async function convertToInteractive(key) {\n",
              "          const element = document.querySelector('#df-77b8c162-d82c-4020-b92e-101c1fa15361');\n",
              "          const dataTable =\n",
              "            await google.colab.kernel.invokeFunction('convertToInteractive',\n",
              "                                                     [key], {});\n",
              "          if (!dataTable) return;\n",
              "\n",
              "          const docLinkHtml = 'Like what you see? Visit the ' +\n",
              "            '<a target=\"_blank\" href=https://colab.research.google.com/notebooks/data_table.ipynb>data table notebook</a>'\n",
              "            + ' to learn more about interactive tables.';\n",
              "          element.innerHTML = '';\n",
              "          dataTable['output_type'] = 'display_data';\n",
              "          await google.colab.output.renderOutput(dataTable, element);\n",
              "          const docLink = document.createElement('div');\n",
              "          docLink.innerHTML = docLinkHtml;\n",
              "          element.appendChild(docLink);\n",
              "        }\n",
              "      </script>\n",
              "    </div>\n",
              "  </div>\n",
              "  "
            ]
          },
          "metadata": {},
          "execution_count": 147
        }
      ]
    },
    {
      "cell_type": "code",
      "source": [
        "# Checking if the dataset contains NULL values\n",
        "X.isnull().values.any()"
      ],
      "metadata": {
        "colab": {
          "base_uri": "https://localhost:8080/"
        },
        "id": "8hngp0eW2ziR",
        "outputId": "e7aa65e3-c6af-4e54-831f-8224943e78b3"
      },
      "execution_count": 148,
      "outputs": [
        {
          "output_type": "execute_result",
          "data": {
            "text/plain": [
              "False"
            ]
          },
          "metadata": {},
          "execution_count": 148
        }
      ]
    },
    {
      "cell_type": "code",
      "source": [
        "#Oversampling to balance the datasets for equal no of 0s and 1s for frauds\n",
        "from imblearn.over_sampling import SMOTE\n",
        "\n",
        "X_res, y_res = SMOTE().fit_resample(X, y)\n",
        "X_res.shape, y_res.shape"
      ],
      "metadata": {
        "colab": {
          "base_uri": "https://localhost:8080/"
        },
        "id": "8jEDcv5P3ghZ",
        "outputId": "d6c8f1b4-068c-430c-e470-ce4ef4e04082"
      },
      "execution_count": 149,
      "outputs": [
        {
          "output_type": "execute_result",
          "data": {
            "text/plain": [
              "((5524392, 9), (5524392,))"
            ]
          },
          "metadata": {},
          "execution_count": 149
        }
      ]
    },
    {
      "cell_type": "code",
      "source": [
        "y_res1 = pd.DataFrame(y_res)\n",
        "y_res1.value_counts()"
      ],
      "metadata": {
        "colab": {
          "base_uri": "https://localhost:8080/"
        },
        "id": "qKc-S5A46K1_",
        "outputId": "595d7bad-2ba6-47e0-901b-cba30f5bd0c1"
      },
      "execution_count": 150,
      "outputs": [
        {
          "output_type": "execute_result",
          "data": {
            "text/plain": [
              "0    2762196\n",
              "1    2762196\n",
              "dtype: int64"
            ]
          },
          "metadata": {},
          "execution_count": 150
        }
      ]
    },
    {
      "cell_type": "markdown",
      "source": [
        "###Model "
      ],
      "metadata": {
        "id": "7_KDCV2K61Ac"
      }
    },
    {
      "cell_type": "code",
      "source": [
        "import torch \n",
        "from torch import nn"
      ],
      "metadata": {
        "id": "CelUFV3X780c"
      },
      "execution_count": 151,
      "outputs": []
    },
    {
      "cell_type": "code",
      "source": [
        "X_res = X_res.to_numpy()"
      ],
      "metadata": {
        "id": "mBCtqKHoELie"
      },
      "execution_count": 166,
      "outputs": []
    },
    {
      "cell_type": "code",
      "source": [
        "# Creating Tensors\n",
        "X_res = torch.from_numpy(X_res).type(torch.float)\n",
        "y_res = torch.from_numpy(y_res).type(torch.LongTensor) "
      ],
      "metadata": {
        "id": "ALkPI-Uk7GEH"
      },
      "execution_count": 168,
      "outputs": []
    },
    {
      "cell_type": "code",
      "source": [
        "#train and test split to 80 -20 %\n",
        "from sklearn.model_selection import train_test_split\n",
        "X_train, X_test, y_train, y_test = train_test_split(X_res,\n",
        "                                                    y_res,\n",
        "                                                    test_size = 0.2,\n",
        "                                                    random_state = 0)"
      ],
      "metadata": {
        "id": "YRihLasu_7In"
      },
      "execution_count": 170,
      "outputs": []
    },
    {
      "cell_type": "code",
      "source": [
        "X_train.shape, y_train.shape, X_test.shape, y_test.shape"
      ],
      "metadata": {
        "colab": {
          "base_uri": "https://localhost:8080/"
        },
        "id": "zS1b5d0RH36K",
        "outputId": "7f0ddd46-1cec-4899-e9e3-c4a5b2079031"
      },
      "execution_count": 171,
      "outputs": [
        {
          "output_type": "execute_result",
          "data": {
            "text/plain": [
              "(torch.Size([4419513, 9]),\n",
              " torch.Size([4419513]),\n",
              " torch.Size([1104879, 9]),\n",
              " torch.Size([1104879]))"
            ]
          },
          "metadata": {},
          "execution_count": 171
        }
      ]
    },
    {
      "cell_type": "code",
      "source": [
        "len(X_train), len(X_test), len(y_train), len(y_test)"
      ],
      "metadata": {
        "colab": {
          "base_uri": "https://localhost:8080/"
        },
        "id": "mjp038Q2Acs5",
        "outputId": "faa9698a-5a58-45ad-d493-3030801117c8"
      },
      "execution_count": 172,
      "outputs": [
        {
          "output_type": "execute_result",
          "data": {
            "text/plain": [
              "(4419513, 1104879, 4419513, 1104879)"
            ]
          },
          "metadata": {},
          "execution_count": 172
        }
      ]
    },
    {
      "cell_type": "code",
      "source": [
        "#Creating the model\n",
        "class MyModel(nn.Module):\n",
        "  def __init__(self, input_features: int, hidden_units: int, output_features: int):\n",
        "    super().__init__()\n",
        "    self.layer_stack = nn.Sequential(\n",
        "        nn.Linear(in_features = input_features,\n",
        "                  out_features = hidden_units),\n",
        "        nn.ReLU(),\n",
        "        nn.Linear(in_features = hidden_units,\n",
        "                  out_features = hidden_units),\n",
        "        nn.ReLU(),\n",
        "        nn.Linear(in_features = hidden_units,\n",
        "                  out_features = output_features)\n",
        "    )\n",
        "\n",
        "  def forward(self, x):\n",
        "    return self.layer_stack(x)"
      ],
      "metadata": {
        "id": "eaj02ZhTAoA4"
      },
      "execution_count": 173,
      "outputs": []
    },
    {
      "cell_type": "code",
      "source": [
        "torch.manual_seed(0)\n",
        "model_0 = MyModel(input_features = 9,\n",
        "                  hidden_units = 10,\n",
        "                  output_features = 2)\n",
        "model_0"
      ],
      "metadata": {
        "colab": {
          "base_uri": "https://localhost:8080/"
        },
        "id": "9oPcRp5XBRyK",
        "outputId": "59e49269-cb3b-40cf-cfd1-7ae365a5a48c"
      },
      "execution_count": 179,
      "outputs": [
        {
          "output_type": "execute_result",
          "data": {
            "text/plain": [
              "MyModel(\n",
              "  (layer_stack): Sequential(\n",
              "    (0): Linear(in_features=9, out_features=10, bias=True)\n",
              "    (1): ReLU()\n",
              "    (2): Linear(in_features=10, out_features=10, bias=True)\n",
              "    (3): ReLU()\n",
              "    (4): Linear(in_features=10, out_features=2, bias=True)\n",
              "  )\n",
              ")"
            ]
          },
          "metadata": {},
          "execution_count": 179
        }
      ]
    },
    {
      "cell_type": "code",
      "source": [
        "model_0.state_dict()"
      ],
      "metadata": {
        "colab": {
          "base_uri": "https://localhost:8080/"
        },
        "id": "z44j6fpsDAgv",
        "outputId": "904025d9-d811-4921-a70c-67034c4851f9"
      },
      "execution_count": 182,
      "outputs": [
        {
          "output_type": "execute_result",
          "data": {
            "text/plain": [
              "OrderedDict([('layer_stack.0.weight',\n",
              "              tensor([[-0.0025,  0.1788, -0.2743, -0.2453, -0.1284,  0.0894, -0.0066,  0.2643,\n",
              "                       -0.0296],\n",
              "                      [ 0.0882, -0.1007, -0.0655, -0.3184, -0.2208, -0.1374,  0.0123,  0.1318,\n",
              "                        0.2000],\n",
              "                      [-0.2260, -0.1452,  0.1211,  0.2768, -0.0686,  0.2494, -0.0537,  0.0353,\n",
              "                        0.3018],\n",
              "                      [-0.3092, -0.2098, -0.0844, -0.1299,  0.2880, -0.2161, -0.1534, -0.2329,\n",
              "                       -0.3122],\n",
              "                      [-0.1946,  0.2865,  0.1487,  0.1616,  0.0175, -0.1709,  0.0564, -0.3112,\n",
              "                       -0.2409],\n",
              "                      [-0.1718,  0.2103,  0.1954, -0.1478, -0.0120,  0.2132,  0.3314,  0.1323,\n",
              "                        0.0450],\n",
              "                      [ 0.2235, -0.1963,  0.0621, -0.2584, -0.2310, -0.1722,  0.1508,  0.1341,\n",
              "                       -0.1975],\n",
              "                      [ 0.1007,  0.1830, -0.0421,  0.0127,  0.0772,  0.2068,  0.3201, -0.2569,\n",
              "                       -0.1222],\n",
              "                      [ 0.1310,  0.2762,  0.2901,  0.2941,  0.0663, -0.2899,  0.0307, -0.2085,\n",
              "                       -0.3107],\n",
              "                      [ 0.2962,  0.2535, -0.3325,  0.0624, -0.0562, -0.0549, -0.1526,  0.1282,\n",
              "                       -0.1974]])),\n",
              "             ('layer_stack.0.bias',\n",
              "              tensor([ 0.1222,  0.1686,  0.2386,  0.1246, -0.3299, -0.2162,  0.1664,  0.0698,\n",
              "                      -0.2600, -0.1919])),\n",
              "             ('layer_stack.2.weight',\n",
              "              tensor([[ 0.2975,  0.2131, -0.1379, -0.0796, -0.3012, -0.0057, -0.2381, -0.2439,\n",
              "                       -0.0174,  0.0475],\n",
              "                      [-0.1295,  0.1876, -0.1924,  0.2869,  0.2167, -0.2667, -0.0787,  0.0143,\n",
              "                        0.0461,  0.0750],\n",
              "                      [ 0.1241,  0.0189, -0.1543,  0.1496, -0.3033, -0.1874, -0.0792, -0.1540,\n",
              "                       -0.1106, -0.2592],\n",
              "                      [-0.0673,  0.0676, -0.2060, -0.0162,  0.2264, -0.0325,  0.0088, -0.0273,\n",
              "                        0.0640,  0.2011],\n",
              "                      [ 0.2995,  0.2008,  0.3002, -0.0229, -0.2841, -0.1499,  0.2153, -0.0020,\n",
              "                       -0.1572, -0.2423],\n",
              "                      [-0.2959, -0.2669, -0.0641,  0.1734,  0.1710, -0.3050,  0.1973, -0.2475,\n",
              "                       -0.0669, -0.1282],\n",
              "                      [-0.0609, -0.0621, -0.2838, -0.2730, -0.0495,  0.0041, -0.1437,  0.1191,\n",
              "                       -0.2846, -0.0213],\n",
              "                      [ 0.2781, -0.1290,  0.2856,  0.1145, -0.2854,  0.2001, -0.0365, -0.1412,\n",
              "                        0.2529, -0.2555],\n",
              "                      [ 0.0339, -0.0662,  0.2258,  0.0883,  0.1519,  0.1117, -0.0760, -0.0665,\n",
              "                       -0.2606,  0.1713],\n",
              "                      [ 0.2511,  0.2164, -0.2231,  0.0141, -0.2229, -0.1741, -0.1843,  0.1081,\n",
              "                       -0.1884, -0.0069]])),\n",
              "             ('layer_stack.2.bias',\n",
              "              tensor([ 0.0133,  0.2038, -0.2390, -0.2171, -0.1836,  0.2213, -0.1137,  0.2667,\n",
              "                       0.1144,  0.0400])),\n",
              "             ('layer_stack.4.weight',\n",
              "              tensor([[-0.0024, -0.0625,  0.0397, -0.0722, -0.0022,  0.0403, -0.2474, -0.1657,\n",
              "                        0.2554, -0.2566],\n",
              "                      [-0.0227,  0.3128,  0.1142,  0.0090, -0.2740,  0.1567, -0.2252, -0.0898,\n",
              "                       -0.1061, -0.0468]])),\n",
              "             ('layer_stack.4.bias', tensor([0.0035, 0.2608]))])"
            ]
          },
          "metadata": {},
          "execution_count": 182
        }
      ]
    },
    {
      "cell_type": "code",
      "source": [
        "#ACcuray metric\n",
        "def accuracy_fn(y_true, y_pred):\n",
        "  correct = torch.eq(y_true, y_pred).sum().item()\n",
        "  acc = (correct/len(y_true))*100\n",
        "  return acc"
      ],
      "metadata": {
        "id": "fnpW8PavExlz"
      },
      "execution_count": 183,
      "outputs": []
    },
    {
      "cell_type": "code",
      "source": [
        "#Loss function and optimizer\n",
        "loss_fn = nn.CrossEntropyLoss()\n",
        "optimizer = torch.optim.Adam(params = model_0.parameters(), lr = 0.001)\n"
      ],
      "metadata": {
        "id": "8-1opuZhFT0o"
      },
      "execution_count": 184,
      "outputs": []
    },
    {
      "cell_type": "code",
      "source": [
        "#Training the model\n",
        "from tqdm.auto import tqdm\n",
        "\n",
        "epochs = 100\n",
        "train_losses = []\n",
        "\n",
        "#Creating training and testing loop\n",
        "for epoch in tqdm(range(epochs)):\n",
        "  \n",
        "  #Training\n",
        "  model_0.train()\n",
        "\n",
        "  #Forward pass\n",
        "  y_pred = model_0(X_train)\n",
        "\n",
        "  #Calc loss/acc\n",
        "  loss = loss_fn(y_pred, y_train)\n",
        "  train_losses.append(loss)\n",
        "\n",
        "  #optimizer zero grad\n",
        "  optimizer.zero_grad()\n",
        "\n",
        "  #backward prop\n",
        "  loss.backward()\n",
        "\n",
        "  #Optimizer step\n",
        "  optimizer.step()\n",
        "\n",
        "  #Testing\n",
        "  model_0.eval()\n",
        "  with torch.inference_mode():\n",
        "    #Forward pass\n",
        "    test_pred = model_0(X_test)\n",
        "    #cal test Loss\n",
        "    test_loss = loss_fn(test_pred, y_test)\n",
        "  \n",
        "  #Print out whats happening\n",
        "  if epoch % 10 == 0:\n",
        "    print(f\"Epoch: {epoch} | Loss: {loss:.5f} | Test_loss: {test_loss:.5f} \")"
      ],
      "metadata": {
        "colab": {
          "base_uri": "https://localhost:8080/",
          "height": 223,
          "referenced_widgets": [
            "b2745764356b4251ba5d5888d631689b",
            "05cc381ac110435a8b99d79e41e036d0",
            "089b2093f16843a5a8b132940316fee8",
            "a8ace4e92e444586a483fa58b1cfc3be",
            "d381554caff74e03ae3f31d4cdc5856e",
            "15992978f82b4a74a963ba253e2f37a1",
            "a1a9b54e992a44d3af6d0482f05aedc9",
            "29b4aeac35b24838990a507cd939df23",
            "2b4e0841944d465bb90f10fc4b4614e2",
            "47ffb5390eb7473e935dfdae9e88699e",
            "2a780c5ff5f94bdf96dd422110980e9e"
          ]
        },
        "id": "ythZrQ97I4cj",
        "outputId": "c1b9c974-4952-4340-aaaf-aa7191e9f006"
      },
      "execution_count": 197,
      "outputs": [
        {
          "output_type": "display_data",
          "data": {
            "text/plain": [
              "  0%|          | 0/100 [00:00<?, ?it/s]"
            ],
            "application/vnd.jupyter.widget-view+json": {
              "version_major": 2,
              "version_minor": 0,
              "model_id": "b2745764356b4251ba5d5888d631689b"
            }
          },
          "metadata": {}
        },
        {
          "output_type": "stream",
          "name": "stdout",
          "text": [
            "Epoch: 0 | Loss: 61.76211 | Test_loss: 57.88853 \n",
            "Epoch: 10 | Loss: 59.92514 | Test_loss: 55.07883 \n",
            "Epoch: 20 | Loss: 56.20924 | Test_loss: 51.58762 \n",
            "Epoch: 30 | Loss: 52.59953 | Test_loss: 48.65295 \n",
            "Epoch: 40 | Loss: 49.50957 | Test_loss: 45.81788 \n",
            "Epoch: 50 | Loss: 47.54799 | Test_loss: 43.58643 \n",
            "Epoch: 60 | Loss: 45.19408 | Test_loss: 41.40045 \n",
            "Epoch: 70 | Loss: 42.50577 | Test_loss: 39.05062 \n",
            "Epoch: 80 | Loss: 40.37348 | Test_loss: 36.75561 \n",
            "Epoch: 90 | Loss: 38.72135 | Test_loss: 34.98761 \n"
          ]
        }
      ]
    },
    {
      "cell_type": "code",
      "source": [
        "#Plotting the loss function\n",
        "import matplotlib.pyplot as plt\n",
        "#%matplotlib as inline\n",
        "train_loss_list = [tl.item() for tl in train_losses]\n",
        "plt.plot(range(epochs), train_loss_list)\n",
        "plt.ylabel(\"Loss\")\n",
        "plt.xlabel(\"Epoch\")"
      ],
      "metadata": {
        "colab": {
          "base_uri": "https://localhost:8080/",
          "height": 296
        },
        "id": "OFz0BLPfL4Zo",
        "outputId": "56880cf5-2c1c-42e0-d14b-74571dbe21b5"
      },
      "execution_count": 194,
      "outputs": [
        {
          "output_type": "execute_result",
          "data": {
            "text/plain": [
              "Text(0.5, 0, 'Epoch')"
            ]
          },
          "metadata": {},
          "execution_count": 194
        },
        {
          "output_type": "display_data",
          "data": {
            "text/plain": [
              "<Figure size 432x288 with 1 Axes>"
            ],
            "image/png": "[encoded data removed]"
          },
          "metadata": {
            "needs_background": "light"
          }
        }
      ]
    },
    {
      "cell_type": "code",
      "source": [
        "# Predictions in X_test_data\n",
        "predictions = []\n",
        "with torch.inference_mode():\n",
        "  for data in X_test:\n",
        "    y_prediction = model_0(data)\n",
        "    predictions.append(y_prediction.argmax().item())"
      ],
      "metadata": {
        "id": "8LqQL_XwRKNv"
      },
      "execution_count": 195,
      "outputs": []
    },
    {
      "cell_type": "code",
      "source": [
        "#Accuracy metric\n",
        "from sklearn.metrics import accuracy_score\n",
        "score = accuracy_score(y_test, predictions)\n",
        "score"
      ],
      "metadata": {
        "id": "_XiSMEIRQYR1",
        "colab": {
          "base_uri": "https://localhost:8080/"
        },
        "outputId": "93f60e6c-c801-4862-9ae1-086128b1c0e3"
      },
      "execution_count": 196,
      "outputs": [
        {
          "output_type": "execute_result",
          "data": {
            "text/plain": [
              "0.9269576125530488"
            ]
          },
          "metadata": {},
          "execution_count": 196
        }
      ]
    },
    {
      "cell_type": "markdown",
      "source": [
        "### Using Xg-Boost Model"
      ],
      "metadata": {
        "id": "K84xGodDCYeG"
      }
    },
    {
      "cell_type": "code",
      "source": [
        "import xgboost as xgb\n",
        "from xgboost.sklearn import XGBClassifier\n",
        "\n",
        "\n",
        "model = XGBClassifier()\n",
        "model.fit(X_train, y_train)\n",
        "\n",
        "y_pred = model.predict(X_test)\n"
      ],
      "metadata": {
        "colab": {
          "base_uri": "https://localhost:8080/"
        },
        "id": "J_4HQzAdCfz4",
        "outputId": "6a0f9a2c-ff1a-4f51-b395-a3af2591b7c9"
      },
      "execution_count": 221,
      "outputs": [
        {
          "output_type": "stream",
          "name": "stdout",
          "text": [
            "[17:12:31] WARNING: /workspace/src/learner.cc:686: Tree method is automatically selected to be 'approx' for faster speed. To use old behavior (exact greedy algorithm on single machine), set tree_method to 'exact'.\n"
          ]
        }
      ]
    },
    {
      "cell_type": "code",
      "source": [
        "to_graphviz(model)"
      ],
      "metadata": {
        "colab": {
          "base_uri": "https://localhost:8080/",
          "height": 448
        },
        "id": "8YQ5GI1jlqh3",
        "outputId": "2f6a9dbd-b50e-4175-e8ba-b12aa7894df9"
      },
      "execution_count": 232,
      "outputs": [
        {
          "output_type": "execute_result",
          "data": {
            "text/plain": [
              "<graphviz.dot.Digraph at 0x7f0db0935370>"
            ],
            "image/svg+xml": "<?xml version=\"1.0\" encoding=\"UTF-8\" standalone=\"no\"?>\n<!DOCTYPE svg PUBLIC \"-//W3C//DTD SVG 1.1//EN\"\n \"http://www.w3.org/Graphics/SVG/1.1/DTD/svg11.dtd\">\n<!-- Generated by graphviz version 2.43.0 (0)\n -->\n<!-- Title: %3 Pages: 1 -->\n<svg width=\"1376pt\" height=\"305pt\"\n viewBox=\"0.00 0.00 1376.04 305.00\" xmlns=\"http://www.w3.org/2000/svg\" xmlns:xlink=\"http://www.w3.org/1999/xlink\">\n<g id=\"graph0\" class=\"graph\" transform=\"scale(1 1) rotate(0) translate(4 301)\">\n<title>%3</title>\n<polygon fill=\"white\" stroke=\"transparent\" points=\"-4,4 -4,-301 1372.04,-301 1372.04,4 -4,4\"/>\n<!-- 0 -->\n<g id=\"node1\" class=\"node\">\n<title>0</title>\n<ellipse fill=\"none\" stroke=\"black\" cx=\"648.64\" cy=\"-279\" rx=\"63.09\" ry=\"18\"/>\n<text text-anchor=\"middle\" x=\"648.64\" y=\"-275.3\" font-family=\"Times,serif\" font-size=\"14.00\">f7&lt;147646976</text>\n</g>\n<!-- 1 -->\n<g id=\"node2\" class=\"node\">\n<title>1</title>\n<ellipse fill=\"none\" stroke=\"black\" cx=\"476.64\" cy=\"-192\" rx=\"61.19\" ry=\"18\"/>\n<text text-anchor=\"middle\" x=\"476.64\" y=\"-188.3\" font-family=\"Times,serif\" font-size=\"14.00\">f8&lt;1314551.5</text>\n</g>\n<!-- 0&#45;&gt;1 -->\n<g id=\"edge1\" class=\"edge\">\n<title>0&#45;&gt;1</title>\n<path fill=\"none\" stroke=\"#0000ff\" d=\"M618.29,-263C589.8,-248.92 547.02,-227.78 515.94,-212.42\"/>\n<polygon fill=\"#0000ff\" stroke=\"#0000ff\" points=\"517.21,-209.14 506.69,-207.85 514.11,-215.42 517.21,-209.14\"/>\n<text text-anchor=\"middle\" x=\"583.14\" y=\"-231.8\" font-family=\"Times,serif\" font-size=\"14.00\">yes</text>\n</g>\n<!-- 2 -->\n<g id=\"node3\" class=\"node\">\n<title>2</title>\n<ellipse fill=\"none\" stroke=\"black\" cx=\"857.64\" cy=\"-192\" rx=\"65.79\" ry=\"18\"/>\n<text text-anchor=\"middle\" x=\"857.64\" y=\"-188.3\" font-family=\"Times,serif\" font-size=\"14.00\">f4&lt;1087047.25</text>\n</g>\n<!-- 0&#45;&gt;2 -->\n<g id=\"edge2\" class=\"edge\">\n<title>0&#45;&gt;2</title>\n<path fill=\"none\" stroke=\"#ff0000\" d=\"M683.62,-263.77C719.19,-249.31 774.42,-226.85 813.09,-211.12\"/>\n<polygon fill=\"#ff0000\" stroke=\"#ff0000\" points=\"814.6,-214.28 822.55,-207.27 811.97,-207.8 814.6,-214.28\"/>\n<text text-anchor=\"middle\" x=\"798.64\" y=\"-231.8\" font-family=\"Times,serif\" font-size=\"14.00\">no, missing</text>\n</g>\n<!-- 3 -->\n<g id=\"node4\" class=\"node\">\n<title>3</title>\n<ellipse fill=\"none\" stroke=\"black\" cx=\"258.64\" cy=\"-105\" rx=\"65.79\" ry=\"18\"/>\n<text text-anchor=\"middle\" x=\"258.64\" y=\"-101.3\" font-family=\"Times,serif\" font-size=\"14.00\">f3&lt;1028906.56</text>\n</g>\n<!-- 1&#45;&gt;3 -->\n<g id=\"edge3\" class=\"edge\">\n<title>1&#45;&gt;3</title>\n<path fill=\"none\" stroke=\"#0000ff\" d=\"M441.13,-177.15C403.83,-162.61 345.02,-139.68 304.29,-123.8\"/>\n<polygon fill=\"#0000ff\" stroke=\"#0000ff\" points=\"305.45,-120.5 294.86,-120.12 302.91,-127.02 305.45,-120.5\"/>\n<text text-anchor=\"middle\" x=\"416.14\" y=\"-144.8\" font-family=\"Times,serif\" font-size=\"14.00\">yes, missing</text>\n</g>\n<!-- 4 -->\n<g id=\"node5\" class=\"node\">\n<title>4</title>\n<ellipse fill=\"none\" stroke=\"black\" cx=\"476.64\" cy=\"-105\" rx=\"65.79\" ry=\"18\"/>\n<text text-anchor=\"middle\" x=\"476.64\" y=\"-101.3\" font-family=\"Times,serif\" font-size=\"14.00\">f3&lt;1318132.38</text>\n</g>\n<!-- 1&#45;&gt;4 -->\n<g id=\"edge4\" class=\"edge\">\n<title>1&#45;&gt;4</title>\n<path fill=\"none\" stroke=\"#ff0000\" d=\"M476.64,-173.8C476.64,-162.16 476.64,-146.55 476.64,-133.24\"/>\n<polygon fill=\"#ff0000\" stroke=\"#ff0000\" points=\"480.14,-133.18 476.64,-123.18 473.14,-133.18 480.14,-133.18\"/>\n<text text-anchor=\"middle\" x=\"483.64\" y=\"-144.8\" font-family=\"Times,serif\" font-size=\"14.00\">no</text>\n</g>\n<!-- 5 -->\n<g id=\"node10\" class=\"node\">\n<title>5</title>\n<ellipse fill=\"none\" stroke=\"black\" cx=\"857.64\" cy=\"-105\" rx=\"53.89\" ry=\"18\"/>\n<text text-anchor=\"middle\" x=\"857.64\" y=\"-101.3\" font-family=\"Times,serif\" font-size=\"14.00\">f2&lt;2984626</text>\n</g>\n<!-- 2&#45;&gt;5 -->\n<g id=\"edge9\" class=\"edge\">\n<title>2&#45;&gt;5</title>\n<path fill=\"none\" stroke=\"#0000ff\" d=\"M857.64,-173.8C857.64,-162.16 857.64,-146.55 857.64,-133.24\"/>\n<polygon fill=\"#0000ff\" stroke=\"#0000ff\" points=\"861.14,-133.18 857.64,-123.18 854.14,-133.18 861.14,-133.18\"/>\n<text text-anchor=\"middle\" x=\"867.14\" y=\"-144.8\" font-family=\"Times,serif\" font-size=\"14.00\">yes</text>\n</g>\n<!-- 6 -->\n<g id=\"node11\" class=\"node\">\n<title>6</title>\n<ellipse fill=\"none\" stroke=\"black\" cx=\"1123.64\" cy=\"-105\" rx=\"61.19\" ry=\"18\"/>\n<text text-anchor=\"middle\" x=\"1123.64\" y=\"-101.3\" font-family=\"Times,serif\" font-size=\"14.00\">f4&lt;1985618.5</text>\n</g>\n<!-- 2&#45;&gt;6 -->\n<g id=\"edge10\" class=\"edge\">\n<title>2&#45;&gt;6</title>\n<path fill=\"none\" stroke=\"#ff0000\" d=\"M898.62,-177.91C945.89,-162.8 1023.59,-137.97 1074.18,-121.81\"/>\n<polygon fill=\"#ff0000\" stroke=\"#ff0000\" points=\"1075.46,-125.07 1083.92,-118.69 1073.33,-118.4 1075.46,-125.07\"/>\n<text text-anchor=\"middle\" x=\"1038.64\" y=\"-144.8\" font-family=\"Times,serif\" font-size=\"14.00\">no, missing</text>\n</g>\n<!-- 7 -->\n<g id=\"node6\" class=\"node\">\n<title>7</title>\n<ellipse fill=\"none\" stroke=\"black\" cx=\"78.64\" cy=\"-18\" rx=\"78.79\" ry=\"18\"/>\n<text text-anchor=\"middle\" x=\"78.64\" y=\"-14.3\" font-family=\"Times,serif\" font-size=\"14.00\">leaf=&#45;0.198119029</text>\n</g>\n<!-- 3&#45;&gt;7 -->\n<g id=\"edge5\" class=\"edge\">\n<title>3&#45;&gt;7</title>\n<path fill=\"none\" stroke=\"#0000ff\" d=\"M226.88,-89C197.3,-75.03 153.01,-54.12 120.55,-38.79\"/>\n<polygon fill=\"#0000ff\" stroke=\"#0000ff\" points=\"121.84,-35.53 111.31,-34.42 118.85,-41.86 121.84,-35.53\"/>\n<text text-anchor=\"middle\" x=\"214.14\" y=\"-57.8\" font-family=\"Times,serif\" font-size=\"14.00\">yes, missing</text>\n</g>\n<!-- 8 -->\n<g id=\"node7\" class=\"node\">\n<title>8</title>\n<ellipse fill=\"none\" stroke=\"black\" cx=\"258.64\" cy=\"-18\" rx=\"83.39\" ry=\"18\"/>\n<text text-anchor=\"middle\" x=\"258.64\" y=\"-14.3\" font-family=\"Times,serif\" font-size=\"14.00\">leaf=&#45;0.0777777806</text>\n</g>\n<!-- 3&#45;&gt;8 -->\n<g id=\"edge6\" class=\"edge\">\n<title>3&#45;&gt;8</title>\n<path fill=\"none\" stroke=\"#ff0000\" d=\"M258.64,-86.8C258.64,-75.16 258.64,-59.55 258.64,-46.24\"/>\n<polygon fill=\"#ff0000\" stroke=\"#ff0000\" points=\"262.14,-46.18 258.64,-36.18 255.14,-46.18 262.14,-46.18\"/>\n<text text-anchor=\"middle\" x=\"265.64\" y=\"-57.8\" font-family=\"Times,serif\" font-size=\"14.00\">no</text>\n</g>\n<!-- 9 -->\n<g id=\"node8\" class=\"node\">\n<title>9</title>\n<ellipse fill=\"none\" stroke=\"black\" cx=\"438.64\" cy=\"-18\" rx=\"78.79\" ry=\"18\"/>\n<text text-anchor=\"middle\" x=\"438.64\" y=\"-14.3\" font-family=\"Times,serif\" font-size=\"14.00\">leaf=&#45;0.195939094</text>\n</g>\n<!-- 4&#45;&gt;9 -->\n<g id=\"edge7\" class=\"edge\">\n<title>4&#45;&gt;9</title>\n<path fill=\"none\" stroke=\"#0000ff\" d=\"M468.95,-86.8C463.65,-74.93 456.49,-58.93 450.47,-45.45\"/>\n<polygon fill=\"#0000ff\" stroke=\"#0000ff\" points=\"453.6,-43.88 446.32,-36.18 447.21,-46.73 453.6,-43.88\"/>\n<text text-anchor=\"middle\" x=\"495.14\" y=\"-57.8\" font-family=\"Times,serif\" font-size=\"14.00\">yes, missing</text>\n</g>\n<!-- 10 -->\n<g id=\"node9\" class=\"node\">\n<title>10</title>\n<ellipse fill=\"none\" stroke=\"black\" cx=\"610.64\" cy=\"-18\" rx=\"75.29\" ry=\"18\"/>\n<text text-anchor=\"middle\" x=\"610.64\" y=\"-14.3\" font-family=\"Times,serif\" font-size=\"14.00\">leaf=0.199907199</text>\n</g>\n<!-- 4&#45;&gt;10 -->\n<g id=\"edge8\" class=\"edge\">\n<title>4&#45;&gt;10</title>\n<path fill=\"none\" stroke=\"#ff0000\" d=\"M502.55,-88.28C512.33,-82.3 523.53,-75.39 533.64,-69 548.13,-59.85 564.02,-49.58 577.58,-40.73\"/>\n<polygon fill=\"#ff0000\" stroke=\"#ff0000\" points=\"579.67,-43.55 586.12,-35.15 575.84,-37.69 579.67,-43.55\"/>\n<text text-anchor=\"middle\" x=\"564.64\" y=\"-57.8\" font-family=\"Times,serif\" font-size=\"14.00\">no</text>\n</g>\n<!-- 11 -->\n<g id=\"node12\" class=\"node\">\n<title>11</title>\n<ellipse fill=\"none\" stroke=\"black\" cx=\"782.64\" cy=\"-18\" rx=\"78.79\" ry=\"18\"/>\n<text text-anchor=\"middle\" x=\"782.64\" y=\"-14.3\" font-family=\"Times,serif\" font-size=\"14.00\">leaf=&#45;0.199460909</text>\n</g>\n<!-- 5&#45;&gt;11 -->\n<g id=\"edge11\" class=\"edge\">\n<title>5&#45;&gt;11</title>\n<path fill=\"none\" stroke=\"#0000ff\" d=\"M843.18,-87.61C832.22,-75.19 816.98,-57.91 804.53,-43.8\"/>\n<polygon fill=\"#0000ff\" stroke=\"#0000ff\" points=\"806.81,-41.1 797.57,-35.92 801.56,-45.73 806.81,-41.1\"/>\n<text text-anchor=\"middle\" x=\"834.14\" y=\"-57.8\" font-family=\"Times,serif\" font-size=\"14.00\">yes</text>\n</g>\n<!-- 12 -->\n<g id=\"node13\" class=\"node\">\n<title>12</title>\n<ellipse fill=\"none\" stroke=\"black\" cx=\"954.64\" cy=\"-18\" rx=\"75.29\" ry=\"18\"/>\n<text text-anchor=\"middle\" x=\"954.64\" y=\"-14.3\" font-family=\"Times,serif\" font-size=\"14.00\">leaf=0.199778453</text>\n</g>\n<!-- 5&#45;&gt;12 -->\n<g id=\"edge12\" class=\"edge\">\n<title>5&#45;&gt;12</title>\n<path fill=\"none\" stroke=\"#ff0000\" d=\"M875.89,-88.01C890.6,-75.12 911.5,-56.8 928.08,-42.28\"/>\n<polygon fill=\"#ff0000\" stroke=\"#ff0000\" points=\"930.6,-44.72 935.82,-35.5 925.99,-39.45 930.6,-44.72\"/>\n<text text-anchor=\"middle\" x=\"944.64\" y=\"-57.8\" font-family=\"Times,serif\" font-size=\"14.00\">no, missing</text>\n</g>\n<!-- 13 -->\n<g id=\"node14\" class=\"node\">\n<title>13</title>\n<ellipse fill=\"none\" stroke=\"black\" cx=\"1123.64\" cy=\"-18\" rx=\"75.29\" ry=\"18\"/>\n<text text-anchor=\"middle\" x=\"1123.64\" y=\"-14.3\" font-family=\"Times,serif\" font-size=\"14.00\">leaf=0.134886399</text>\n</g>\n<!-- 6&#45;&gt;13 -->\n<g id=\"edge13\" class=\"edge\">\n<title>6&#45;&gt;13</title>\n<path fill=\"none\" stroke=\"#0000ff\" d=\"M1123.64,-86.8C1123.64,-75.16 1123.64,-59.55 1123.64,-46.24\"/>\n<polygon fill=\"#0000ff\" stroke=\"#0000ff\" points=\"1127.14,-46.18 1123.64,-36.18 1120.14,-46.18 1127.14,-46.18\"/>\n<text text-anchor=\"middle\" x=\"1133.14\" y=\"-57.8\" font-family=\"Times,serif\" font-size=\"14.00\">yes</text>\n</g>\n<!-- 14 -->\n<g id=\"node15\" class=\"node\">\n<title>14</title>\n<ellipse fill=\"none\" stroke=\"black\" cx=\"1292.64\" cy=\"-18\" rx=\"75.29\" ry=\"18\"/>\n<text text-anchor=\"middle\" x=\"1292.64\" y=\"-14.3\" font-family=\"Times,serif\" font-size=\"14.00\">leaf=0.199946016</text>\n</g>\n<!-- 6&#45;&gt;14 -->\n<g id=\"edge14\" class=\"edge\">\n<title>6&#45;&gt;14</title>\n<path fill=\"none\" stroke=\"#ff0000\" d=\"M1153.08,-89.19C1180.68,-75.31 1222.15,-54.45 1252.72,-39.08\"/>\n<polygon fill=\"#ff0000\" stroke=\"#ff0000\" points=\"1254.47,-42.12 1261.83,-34.5 1251.32,-35.86 1254.47,-42.12\"/>\n<text text-anchor=\"middle\" x=\"1250.64\" y=\"-57.8\" font-family=\"Times,serif\" font-size=\"14.00\">no, missing</text>\n</g>\n</g>\n</svg>\n"
          },
          "metadata": {},
          "execution_count": 232
        }
      ]
    },
    {
      "cell_type": "code",
      "source": [
        "#Accuracy of xgBoost model\n",
        "xgBoostScore = accuracy_score(y_test, y_pred)\n",
        "xgBoostScore"
      ],
      "metadata": {
        "colab": {
          "base_uri": "https://localhost:8080/"
        },
        "id": "8iuqts1wCo-X",
        "outputId": "ba540f14-6f9d-44f6-efb7-30c2349c0088"
      },
      "execution_count": 222,
      "outputs": [
        {
          "output_type": "execute_result",
          "data": {
            "text/plain": [
              "0.9985446370145509"
            ]
          },
          "metadata": {},
          "execution_count": 222
        }
      ]
    },
    {
      "cell_type": "markdown",
      "source": [
        "\n",
        "\n",
        "1.   There were no missing values in the dataset. Looking at the collinearity table we can drop isFlaggedFraud. If the transanction is 1 (Fraud) it is also Flagged.\n",
        "2.   we select TRANSFER AND CASH_OUT type transanctions only because only these types of transanction involed Frauds. Other type becomes redundant. Then we label encode TRANSFER AND CASH_OUT to 0 and 1. We also drop nameOrig and nameDest. These are of type Object and have no effect on the outcomes.\n",
        "3. The Dataset had an imbalance class problem, so we performed an oversampling technique called SMOTE and generated new minority class examples to balance\n",
        "4. xgBoost Model shows better results than  Regression model\n",
        "5. The Engineered feature is errorbalanceOrig is the most important. Shows the irregular activity with the difference in previous amount to the new amount with respect to the amount of transanction made\n",
        "6. Using data science we can prevent transanctional frauds. We can detect unusual transactions or user behavior changes to automatically alert banks of the threat. \n",
        "7. To check that the model is working correctly, we show the model some data which it has never seen before, but which we know the fraud outcomes for. If the model detects the fraud correctly, we can deploy it to be used against the online business’s transactions. We also do some automatic common-sense analysis on recent data for which we do not have fraud labels to ensure the model will behave correctly when it is deployed.\n",
        "\n"
      ],
      "metadata": {
        "id": "CLxb-81xRZqf"
      }
    },
    {
      "cell_type": "code",
      "source": [],
      "metadata": {
        "id": "BBZK_dhGpJlv"
      },
      "execution_count": null,
      "outputs": []
    }
  ]
}